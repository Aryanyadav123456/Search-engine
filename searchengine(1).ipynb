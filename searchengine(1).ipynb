{
 "cells": [
  {
   "cell_type": "code",
   "execution_count": 2,
   "id": "ef2c37d6",
   "metadata": {},
   "outputs": [
    {
     "name": "stdout",
     "output_type": "stream",
     "text": [
      "Collecting tqdm_joblib\n",
      "  Downloading tqdm_joblib-0.0.3.tar.gz (1.6 kB)\n",
      "  Preparing metadata (setup.py): started\n",
      "  Preparing metadata (setup.py): finished with status 'done'\n",
      "Requirement already satisfied: tqdm in c:\\users\\admin\\documents\\python scripts\\lib\\site-packages (from tqdm_joblib) (4.64.1)\n",
      "Requirement already satisfied: colorama in c:\\users\\admin\\documents\\python scripts\\lib\\site-packages (from tqdm->tqdm_joblib) (0.4.6)\n",
      "Building wheels for collected packages: tqdm_joblib\n",
      "  Building wheel for tqdm_joblib (setup.py): started\n",
      "  Building wheel for tqdm_joblib (setup.py): finished with status 'done'\n",
      "  Created wheel for tqdm_joblib: filename=tqdm_joblib-0.0.3-py3-none-any.whl size=1637 sha256=3ce7f2a807addde69042472878f50f457f497d1eca3c3b11a74b666430074046\n",
      "  Stored in directory: c:\\users\\admin\\appdata\\local\\pip\\cache\\wheels\\47\\f1\\7e\\4489c9ac0b95389801c1a739e5d92492299536b070a1f688a0\n",
      "Successfully built tqdm_joblib\n",
      "Installing collected packages: tqdm_joblib\n",
      "Successfully installed tqdm_joblib-0.0.3\n",
      "Note: you may need to restart the kernel to use updated packages.\n"
     ]
    }
   ],
   "source": [
    "!pip install tqdm_joblib"
   ]
  },
  {
   "cell_type": "code",
   "execution_count": 3,
   "id": "f9a8b0e6-fe33-49cb-b9a1-6e9e39314870",
   "metadata": {},
   "outputs": [
    {
     "name": "stderr",
     "output_type": "stream",
     "text": [
      "C:\\Users\\Admin\\Documents\\Python Scripts\\lib\\site-packages\\tqdm_joblib\\__init__.py:4: TqdmExperimentalWarning: Using `tqdm.autonotebook.tqdm` in notebook mode. Use `tqdm.tqdm` instead to force console mode (e.g. in jupyter console)\n",
      "  from tqdm.autonotebook import tqdm\n"
     ]
    }
   ],
   "source": [
    "import pandas as pd\n",
    "import sqlite3\n",
    "import pandas as pd\n",
    "from tqdm import tqdm, tqdm_notebook\n",
    "import re\n",
    "import numpy\n",
    "from joblib import Parallel, delayed\n",
    "tqdm.pandas()\n",
    "from tqdm_joblib import tqdm_joblib"
   ]
  },
  {
   "cell_type": "code",
   "execution_count": 8,
   "id": "ba584247-f5d6-4c74-a987-ab82782cfaa3",
   "metadata": {},
   "outputs": [],
   "source": [
    "df = pd.read_csv(r\"C:\\Users\\Admin\\Downloads\\subtitles.csv\",nrows=500)"
   ]
  },
  {
   "cell_type": "code",
   "execution_count": 9,
   "id": "60048482-5610-467b-867a-dbf6ab8f4d34",
   "metadata": {},
   "outputs": [
    {
     "data": {
      "text/html": [
       "<div>\n",
       "<style scoped>\n",
       "    .dataframe tbody tr th:only-of-type {\n",
       "        vertical-align: middle;\n",
       "    }\n",
       "\n",
       "    .dataframe tbody tr th {\n",
       "        vertical-align: top;\n",
       "    }\n",
       "\n",
       "    .dataframe thead th {\n",
       "        text-align: right;\n",
       "    }\n",
       "</style>\n",
       "<table border=\"1\" class=\"dataframe\">\n",
       "  <thead>\n",
       "    <tr style=\"text-align: right;\">\n",
       "      <th></th>\n",
       "      <th>num</th>\n",
       "      <th>name</th>\n",
       "      <th>subtitles</th>\n",
       "      <th>chunked_data</th>\n",
       "    </tr>\n",
       "  </thead>\n",
       "  <tbody>\n",
       "    <tr>\n",
       "      <th>0</th>\n",
       "      <td>9180533</td>\n",
       "      <td>the.message.(1976).eng.1cd</td>\n",
       "      <td>Watch any video online with OpenSUBTITLESFre...</td>\n",
       "      <td>watch video online opensubtitlesfree browser e...</td>\n",
       "    </tr>\n",
       "    <tr>\n",
       "      <th>1</th>\n",
       "      <td>9180583</td>\n",
       "      <td>here.comes.the.grump.s01.e09.joltin.jack.in.bo...</td>\n",
       "      <td>Ah Theres PrincessDawn and Terry with the  B...</td>\n",
       "      <td>ah princessdawn terry blooney looney soldiersp...</td>\n",
       "    </tr>\n",
       "    <tr>\n",
       "      <th>2</th>\n",
       "      <td>9180592</td>\n",
       "      <td>yumis.cells.s02.e13.episode.2.13.(2022).eng.1cd</td>\n",
       "      <td>iYumis Cells i  iEpisode Extremely Polite Yu...</td>\n",
       "      <td>iyumis cell iepisode extremely polite yumii iy...</td>\n",
       "    </tr>\n",
       "    <tr>\n",
       "      <th>3</th>\n",
       "      <td>9180594</td>\n",
       "      <td>yumis.cells.s02.e14.episode.2.14.(2022).eng.1cd</td>\n",
       "      <td>Watch any video online with OpenSUBTITLESFre...</td>\n",
       "      <td>watch video online opensubtitlesfree browser e...</td>\n",
       "    </tr>\n",
       "    <tr>\n",
       "      <th>4</th>\n",
       "      <td>9180600</td>\n",
       "      <td>broker.(2022).eng.1cd</td>\n",
       "      <td>Watch any video online with OpenSUBTITLESFre...</td>\n",
       "      <td>watch video online opensubtitlesfree browser e...</td>\n",
       "    </tr>\n",
       "  </tbody>\n",
       "</table>\n",
       "</div>"
      ],
      "text/plain": [
       "       num                                               name  \\\n",
       "0  9180533                         the.message.(1976).eng.1cd   \n",
       "1  9180583  here.comes.the.grump.s01.e09.joltin.jack.in.bo...   \n",
       "2  9180592    yumis.cells.s02.e13.episode.2.13.(2022).eng.1cd   \n",
       "3  9180594    yumis.cells.s02.e14.episode.2.14.(2022).eng.1cd   \n",
       "4  9180600                              broker.(2022).eng.1cd   \n",
       "\n",
       "                                           subtitles  \\\n",
       "0    Watch any video online with OpenSUBTITLESFre...   \n",
       "1    Ah Theres PrincessDawn and Terry with the  B...   \n",
       "2    iYumis Cells i  iEpisode Extremely Polite Yu...   \n",
       "3    Watch any video online with OpenSUBTITLESFre...   \n",
       "4    Watch any video online with OpenSUBTITLESFre...   \n",
       "\n",
       "                                        chunked_data  \n",
       "0  watch video online opensubtitlesfree browser e...  \n",
       "1  ah princessdawn terry blooney looney soldiersp...  \n",
       "2  iyumis cell iepisode extremely polite yumii iy...  \n",
       "3  watch video online opensubtitlesfree browser e...  \n",
       "4  watch video online opensubtitlesfree browser e...  "
      ]
     },
     "execution_count": 9,
     "metadata": {},
     "output_type": "execute_result"
    }
   ],
   "source": [
    "df.head()"
   ]
  },
  {
   "cell_type": "code",
   "execution_count": 10,
   "id": "ee877e34-5dbd-4d78-942c-c6e9402fedae",
   "metadata": {},
   "outputs": [],
   "source": [
    "df.drop(['chunked_data'],axis=1,inplace=True)"
   ]
  },
  {
   "cell_type": "code",
   "execution_count": 41,
   "id": "ded3d872-8f9c-4473-88cc-d8d8a72eb903",
   "metadata": {},
   "outputs": [
    {
     "data": {
      "text/html": [
       "<div>\n",
       "<style scoped>\n",
       "    .dataframe tbody tr th:only-of-type {\n",
       "        vertical-align: middle;\n",
       "    }\n",
       "\n",
       "    .dataframe tbody tr th {\n",
       "        vertical-align: top;\n",
       "    }\n",
       "\n",
       "    .dataframe thead th {\n",
       "        text-align: right;\n",
       "    }\n",
       "</style>\n",
       "<table border=\"1\" class=\"dataframe\">\n",
       "  <thead>\n",
       "    <tr style=\"text-align: right;\">\n",
       "      <th></th>\n",
       "      <th>num</th>\n",
       "      <th>name</th>\n",
       "      <th>subtitle_content</th>\n",
       "      <th>subtitle_content_encoded</th>\n",
       "    </tr>\n",
       "  </thead>\n",
       "  <tbody>\n",
       "    <tr>\n",
       "      <th>0</th>\n",
       "      <td>9180533</td>\n",
       "      <td>the message (1976) eng 1cd</td>\n",
       "      <td>Watch any video online with OpenSUBTITLESFre...</td>\n",
       "      <td>[0.024978460744023323, 0.05731463432312012, -0...</td>\n",
       "    </tr>\n",
       "    <tr>\n",
       "      <th>0</th>\n",
       "      <td>9180533</td>\n",
       "      <td>the message (1976) eng 1cd</td>\n",
       "      <td>ia  Was it like this when John the Baptistcame...</td>\n",
       "      <td>[-0.007689794059842825, 0.14881308376789093, -...</td>\n",
       "    </tr>\n",
       "    <tr>\n",
       "      <th>0</th>\n",
       "      <td>9180533</td>\n",
       "      <td>the message (1976) eng 1cd</td>\n",
       "      <td>Muhammadas a mercy to mankind  The Scholars an...</td>\n",
       "      <td>[-0.019260983914136887, 0.16961021721363068, -...</td>\n",
       "    </tr>\n",
       "    <tr>\n",
       "      <th>0</th>\n",
       "      <td>9180533</td>\n",
       "      <td>the message (1976) eng 1cd</td>\n",
       "      <td>ark agesi  iand everywhere the oldcivilization...</td>\n",
       "      <td>[0.038837723433971405, 0.14701123535633087, -0...</td>\n",
       "    </tr>\n",
       "    <tr>\n",
       "      <th>0</th>\n",
       "      <td>9180533</td>\n",
       "      <td>the message (1976) eng 1cd</td>\n",
       "      <td>f Abrahami  ithe Kaaba had nowbecome a house o...</td>\n",
       "      <td>[0.04441261291503906, 0.11914205551147461, 0.0...</td>\n",
       "    </tr>\n",
       "    <tr>\n",
       "      <th>...</th>\n",
       "      <td>...</td>\n",
       "      <td>...</td>\n",
       "      <td>...</td>\n",
       "      <td>...</td>\n",
       "    </tr>\n",
       "    <tr>\n",
       "      <th>499</th>\n",
       "      <td>9183658</td>\n",
       "      <td>effects (1979) eng 1cd</td>\n",
       "      <td>Oh come here you bitch Groans  Come here  Th...</td>\n",
       "      <td>[-0.012349319644272327, -0.04526472091674805, ...</td>\n",
       "    </tr>\n",
       "    <tr>\n",
       "      <th>499</th>\n",
       "      <td>9183658</td>\n",
       "      <td>effects (1979) eng 1cd</td>\n",
       "      <td>out this  Everything is fine nobodyis hurt nob...</td>\n",
       "      <td>[0.05480166897177696, -0.0013620925601571798, ...</td>\n",
       "    </tr>\n",
       "    <tr>\n",
       "      <th>499</th>\n",
       "      <td>9183658</td>\n",
       "      <td>effects (1979) eng 1cd</td>\n",
       "      <td>I didnt slash anybody Celeste  You think some...</td>\n",
       "      <td>[-0.03947385773062706, -0.03519144281744957, 0...</td>\n",
       "    </tr>\n",
       "    <tr>\n",
       "      <th>499</th>\n",
       "      <td>9183658</td>\n",
       "      <td>effects (1979) eng 1cd</td>\n",
       "      <td>tling music  engine starts   You really killed...</td>\n",
       "      <td>[-0.04161975160241127, 0.018621189519762993, 0...</td>\n",
       "    </tr>\n",
       "    <tr>\n",
       "      <th>499</th>\n",
       "      <td>9183658</td>\n",
       "      <td>effects (1979) eng 1cd</td>\n",
       "      <td>te this subtitle at wwwosdblinkahrHelp other u...</td>\n",
       "      <td>[-0.05875573307275772, -0.05248412862420082, -...</td>\n",
       "    </tr>\n",
       "  </tbody>\n",
       "</table>\n",
       "<p>32493 rows × 4 columns</p>\n",
       "</div>"
      ],
      "text/plain": [
       "         num                        name  \\\n",
       "0    9180533  the message (1976) eng 1cd   \n",
       "0    9180533  the message (1976) eng 1cd   \n",
       "0    9180533  the message (1976) eng 1cd   \n",
       "0    9180533  the message (1976) eng 1cd   \n",
       "0    9180533  the message (1976) eng 1cd   \n",
       "..       ...                         ...   \n",
       "499  9183658      effects (1979) eng 1cd   \n",
       "499  9183658      effects (1979) eng 1cd   \n",
       "499  9183658      effects (1979) eng 1cd   \n",
       "499  9183658      effects (1979) eng 1cd   \n",
       "499  9183658      effects (1979) eng 1cd   \n",
       "\n",
       "                                      subtitle_content  \\\n",
       "0      Watch any video online with OpenSUBTITLESFre...   \n",
       "0    ia  Was it like this when John the Baptistcame...   \n",
       "0    Muhammadas a mercy to mankind  The Scholars an...   \n",
       "0    ark agesi  iand everywhere the oldcivilization...   \n",
       "0    f Abrahami  ithe Kaaba had nowbecome a house o...   \n",
       "..                                                 ...   \n",
       "499    Oh come here you bitch Groans  Come here  Th...   \n",
       "499  out this  Everything is fine nobodyis hurt nob...   \n",
       "499   I didnt slash anybody Celeste  You think some...   \n",
       "499  tling music  engine starts   You really killed...   \n",
       "499  te this subtitle at wwwosdblinkahrHelp other u...   \n",
       "\n",
       "                              subtitle_content_encoded  \n",
       "0    [0.024978460744023323, 0.05731463432312012, -0...  \n",
       "0    [-0.007689794059842825, 0.14881308376789093, -...  \n",
       "0    [-0.019260983914136887, 0.16961021721363068, -...  \n",
       "0    [0.038837723433971405, 0.14701123535633087, -0...  \n",
       "0    [0.04441261291503906, 0.11914205551147461, 0.0...  \n",
       "..                                                 ...  \n",
       "499  [-0.012349319644272327, -0.04526472091674805, ...  \n",
       "499  [0.05480166897177696, -0.0013620925601571798, ...  \n",
       "499  [-0.03947385773062706, -0.03519144281744957, 0...  \n",
       "499  [-0.04161975160241127, 0.018621189519762993, 0...  \n",
       "499  [-0.05875573307275772, -0.05248412862420082, -...  \n",
       "\n",
       "[32493 rows x 4 columns]"
      ]
     },
     "execution_count": 41,
     "metadata": {},
     "output_type": "execute_result"
    }
   ],
   "source": [
    "df"
   ]
  },
  {
   "cell_type": "code",
   "execution_count": 11,
   "id": "7ef7f5e7-57fc-4e14-b8d5-00c5841165e9",
   "metadata": {},
   "outputs": [
    {
     "data": {
      "text/plain": [
       "(500, 3)"
      ]
     },
     "execution_count": 11,
     "metadata": {},
     "output_type": "execute_result"
    }
   ],
   "source": [
    "df.shape"
   ]
  },
  {
   "cell_type": "code",
   "execution_count": 12,
   "id": "83ddb64f-f7b0-427c-a1d9-94377e6c1ce1",
   "metadata": {},
   "outputs": [],
   "source": [
    "def srt_files_to_chuncks(row, window_size=512, overlapping=100):\n",
    "    chunks = []\n",
    "    i = 0\n",
    "    while i < len(row['subtitles']):\n",
    "        chunk_end = min(i + window_size, len(row['subtitles']))\n",
    "        chunks.append(row['subtitles'][i:chunk_end])\n",
    "        i += window_size - overlapping\n",
    "    return chunks\n",
    "\n",
    "def process_row(row):\n",
    "    return srt_files_to_chuncks(row)\n"
   ]
  },
  {
   "cell_type": "code",
   "execution_count": 13,
   "id": "107c2818-d083-4887-946a-f8a2f128fe4f",
   "metadata": {},
   "outputs": [
    {
     "name": "stderr",
     "output_type": "stream",
     "text": [
      "  0%|▏                                                                               | 1/500 [00:07<1:06:24,  7.98s/it]\n"
     ]
    }
   ],
   "source": [
    "num_cores = -1  # Using all available CPU cores\n",
    "with tqdm(total=len(df)) as pbar:\n",
    "    processed_rows = Parallel(n_jobs=num_cores)(\n",
    "        delayed(process_row)(row) for index, row in df.iterrows()\n",
    "    )\n",
    "    pbar.update()\n",
    "\n",
    "df['subtitle_content'] = processed_rows"
   ]
  },
  {
   "cell_type": "code",
   "execution_count": 14,
   "id": "0ee8cdf4-6694-4997-b9ca-825b02aae0fc",
   "metadata": {},
   "outputs": [
    {
     "name": "stdout",
     "output_type": "stream",
     "text": [
      "['  Watch any video online with OpenSUBTITLESFree Browser extension osdblinkext  In the name of God the most gracious the most Merciful  From Muhammad the Messenger of God  to Heraclius the emperor of Byzantium  greetings to him who is thefollower of righteous guidance  I bid you to hear the divine call  I am the messenger of God to the people  accept Islam for your salvation  He speaks of a new prophet in Arabia  Was it like this when John the Baptistcame to king Herod  out of the desert crying about salvati', 'ia  Was it like this when John the Baptistcame to king Herod  out of the desert crying about salvation  To Muqawqis Patriarch of Alexandria  Kisra emperor of Persia  Muhammad calls you with the call of God  Accept Islam for your salvation  embrace Islam  You come out of the desertsmelling of camel and goat  To tell Persia where he should kneel  Muhammad Messenger of God  Who gave him this authority  God sent Muhammadas a mercy to mankind  The Scholars and Historians of Islam The University of AlAzhar in Cai', 'Muhammadas a mercy to mankind  The Scholars and Historians of Islam The University of AlAzhar in CairoThe High Islamic Congress of the Shiat in Lebanon  The makers of this film honour the Islamic traditionwhich holds that the Impersonation of the Prophetoffends against the spirituality of his message  Therefore the person of Mohammadwill not be shown  i years after Christ diedi  iwhen Europe was sunk in the dark agesi  iand everywhere the oldcivilizations were fallingi  iMuhammad was bornin Mecca in Arabiai', 'ark agesi  iand everywhere the oldcivilizations were fallingi  iMuhammad was bornin Mecca in Arabiai  iMecca was then a rich tradingcity ruled by its merchantsi  iwhose wealth was multipliedby a unique privilegei  ithey housed the godsi  iEvery year at thetime of the great fairi  ithe desert priests brought their idolsi  iand the images of their godsinto the custody of the Kaabai  iOnce the most holy shrine of Abrahami  ithe Kaaba had nowbecome a house of idolotryi  ihosting no fewer than different godsi  i', 'f Abrahami  ithe Kaaba had nowbecome a house of idolotryi  ihosting no fewer than different godsi  iMecca in  ADi  Bilal  Have you had todays count Umaya  Not yet  but this year the Gods are gold  When you put the Gods and Prophet togetheryou sit very pretty between hmm  And more gods to place in the Kaaba  Caravan from Syria   Hmmthey must have been running Theyll be thirsty  Put five more men on north wells  How many sheep shallI have to kill for them    Give them a hundred  Mecca must keep hername for ho', '  How many sheep shallI have to kill for them    Give them a hundred  Mecca must keep hername for hospitality  And ten lambs for the leaders  Bread and waterdo the poets have in the Hakims house  Where verse and prose arenightly put to slaughter  Andand the bread I swear in there  is thinner than the water  Ohopen the space open the spaceyou lovers of poetry  to Abu Sufian willing and which  patron of the arts  When Abu Sofyan invites the poet in  their joy is kit and love is kin  Where wines and cakes abou', 's  When Abu Sofyan invites the poet in  their joy is kit and love is kin  Where wines and cakes abound  the skills of Abu Sofyan  All revels and all songs begin  when Abu Sofyan invites the poet in  From the silkworms of China my lady  A pleasure to the limb  and as my lady can seea ravish to the eye  Yes  lengths   dinars  Abu Sofyans wife    Oh gold The gods of theKaaba have their needs  their upkeeps  Who is that man who stood therewho looked into my soul  Carry me away from here  Why must Muhammad come ', 'is that man who stood therewho looked into my soul  Carry me away from here  Why must Muhammad come down here  Why dont you stop him  He is your nephew  Maybe he will change  Change  He is  years old  Its unnatural  with a rich wife he couldafford the best of Mecca  Yet he chooses to sit shivering in a cave  It is unnatural  For a man who dares torisk the anger of AlUzza  who keeps our health  Manat the god of our prosperity  Allat the god of ourfamily and tribes  and Hubal  Hubal who starts our caravansand', 'f our prosperity  Allat the god of ourfamily and tribes  and Hubal  Hubal who starts our caravansand predicts our fate  To challenge the gods within earshotof the gods is dangerous  Unreasonable  Rebellious blasphemous  Yes Im afraid Muhammadwill harm himself  I am always sadwhen the great fair is over  I might not see the next one  Abu Talib Abu Talib  Catch your breath Zaid  Has Muhammad come downfrom Mount Hira yet  Hes been up there three days  No no I havent seen him  Khadijah hoped he might havecome t', ' Hira yet  Hes been up there three days  No no I havent seen him  Khadijah hoped he might havecome to you on his way home  Then hes still up there  Three days  Im afraid for him on the mountain  because  I dont know what it means  iMen see the world too wellfrom a mountaini  Muhammad Read  In the name of thy Lord who createdman from His sensitive drop of blood  Who teaches man what he knows not  Read  Hes still trembling under the blanket  but he has spoken  Zaid What happened tomy nephew on the mountain  H', 'll trembling under the blanket  but he has spoken  Zaid What happened tomy nephew on the mountain  He was alone in the cave  Suddenly an angel came in to him  The angel said Read  Muhammad replied I can not read  The angel commanded again Read  In the name of thy Lord  who created man fromHis sensitive drop of blood  who teaches man what he knows not  Read  Who knows if it was Gabriel  It could have been a dream  When Muhammad was coming fromthe mountain he saw Gabriel plainly  In the shape of a manstanding', 'eam  When Muhammad was coming fromthe mountain he saw Gabriel plainly  In the shape of a manstanding on the horizon  Wherever he looked  upon every turn ofhis head he saw him  And Gabriel said to him again  I am Gabriel  and you Muhammad  are the Messenger of God  Who has he told about this  His wife  and Ali  and his friend Abu Bakr  And you  I am his adopted son  Be careful to whom you talk  Tell him his uncle who protected himwhen he was a child will protect him still  After all  they say the God of Mose', 'cle who protected himwhen he was a child will protect him still  After all  they say the God of Moses  spoke to him out of a burning bush  If you do not restrainyour nephew then we will  Hes dividing the cityheart against house  Hes dividing the generationschild against parent  The young are listening to him  He attracts the young  We are Arabswe obey our fathers  Our children cannot be our teachers  How can we accept that the manwe met in the street yesterday  can be some Gods Prophet today  Dead bones can', 'we accept that the manwe met in the street yesterday  can be some Gods Prophet today  Dead bones can live again he says  because He who created man  can also make man returnfrom the dead he says  The Gods might leave us andgive their benefits to another city  Tell himwe will give himauthority position  and keys to the Kaaba  and money what money he wants  Tell him we will givehim anything he wants  Muhammad spare yourselfand me  Do not put a greater burden onan old man that he can bear  In your childhood yo', 'pare yourselfand me  Do not put a greater burden onan old man that he can bear  In your childhood you were in my arms  I cannot now see you hurt  If you refuse them  they will hurt you  He said this to me  Were they to put the sun in myright hand and the moon in my left  I would not renounce my message  which is from God  When I am deadyou may do as you please  but whilst Im aliveyou will obey your father  Why did you hurt our father  If I were drunk every dayand played dice every night  youd call it high s', 'y did you hurt our father  If I were drunk every dayand played dice every night  youd call it high spirits  You will be more mybrother than you are now  You are all my children  Ive given you everything I could  but it seems not to be enough  Muhammad gives me more  he give all the world more  Get him out of here father  Its not Waleed or meits our father  You tortured him  Wait Hudayfa wait  How can they sayits an invention Musab  when it isnt new  In Mecca its new  Yet God has said it all before  to Noah ', 'its an invention Musab  when it isnt new  In Mecca its new  Yet God has said it all before  to Noah Moses Jesusto all the Prophets  but people changed itturned it forgot it  Now God said it to Muhammad again  and it is new again  What is it  Its Jafar  What have you brought with you  The very word of God  When the sun is overthrown  When the stars fall  When the mountains vanish  When the camels big withyoung are abandoned  When the wild beasts are herded together  When the seas rise  When the souls are sor', ' are abandoned  When the wild beasts are herded together  When the seas rise  When the souls are sorted  When the female infantwho is buried alive  asks for what crime she was killed  When the books are opened  When the sky is torn away  then  every soul  will know what it has done  Were you there Jafarwhen God gave him these words  Dawn is coming up  Ammar you first  then you Jaafar  Ammar  You kept your mother awakeall night with worry  Im sorry father  Where were you  Have you been with Muhammad again  W', 'her awakeall night with worry  Im sorry father  Where were you  Have you been with Muhammad again  What will happen now  Forgive him it wasmy fault I did it  That God has helped us all our lives  But it fell  it could not even help itself  What talk have you been listening to  The real god is unseen  Hes not made of clay  Ammar we see the godsin the Kaaba every day  Im afraid for you  Youre listening to peoplewho will hurt you  Im listening to Muhammad mother  Muhammad is generous yes  He gives he shares  h', 'ewho will hurt you  Im listening to Muhammad mother  Muhammad is generous yes  He gives he shares  hell pass no man without a smile  but he is spreading dangerous ideas  Dangerous ideasthat no man should start  That the rich should not afloat the poor  The strong should not oppress the weak  Are these dangerous ideas  Girls should not be forced into marriage  but be able to choose or refuse  By only tonight he said  Stop the burial of newborn girls  I was fortunate alwaysfortunate with your mother  Yes but ', 'e said  Stop the burial of newborn girls  I was fortunate alwaysfortunate with your mother  Yes but you know that you and Inearly never met Yasser  And you were nearly never born  I was to be buried  like my two sisters  but my father couldnt do it  He couldnt do it the third time  When the second girl was being  when my father was putting sand over her  she took hold of his fingerthe way a baby does  He told my mother afterwards  that it was a minute  before the tender little grip eased  and he dared take ', ' my mother afterwards  that it was a minute  before the tender little grip eased  and he dared take away his hand  When I was born  my father ran out of the house  screaming that he couldnt do it again  that he could never do it again  Sumayyah it is the custom  But its wrong  The gods that let suchthings be are no gods  I promised to go to Muhammadshouse mama we pray there  Yes He is a good man  Yesyes you go  Two men are following him  Read Muhammad canneither write nor read  But he can speak  What did yo', 'o  Two men are following him  Read Muhammad canneither write nor read  But he can speak  What did you say  He can speak  Well so can you so nowyou speak up young man  What does Muhammad say umm  They are Gods words not his  Which gods  What words  A speaking god  Your Muhammadspeaks only to himself  When God reveals Hismessage to Muhammad  he remembers every word  then he tells it to those who can write  this is the Quran  Muhammad has starvedhimself into dreams  He hides under a blanketwith his eyes shut  ', ' is the Quran  Muhammad has starvedhimself into dreams  He hides under a blanketwith his eyes shut  His eyes are shutbut his heart is open  You Kick him for his cleverness  There is no purpose in that  Doesnt Muhammad realize welive by giving housing to the gods  We own the Kaaba  Every year the tribes ofArabia come here to Mecca  to pray and to buy from us  Now were we to replace Gods with just one  Whom we cannot even see who issupposed to be in Taif and Medina  here in my house  in Jerusalem on the moon ', 'cannot even see who issupposed to be in Taif and Medina  here in my house  in Jerusalem on the moon  Where would Mecca be then  The gods are both ourworship and our revenue  You cannot buy and sell God  Young man you areclose to the whip  Ammar be sensible boy  I have a question  Muhammad teaches youa slave is equal to his master  This black Bilal who Ipaid money forequal to me  Yes Muhammad says  before God all men are asequal as the teeth of a comb  This is a very pleasant ideato slaves and beggars  It gi', 'all men are asequal as the teeth of a comb  This is a very pleasant ideato slaves and beggars  It gives them pretensions  Bilal  Teach this man the differencebetween the Lord of Mecca and a slave  Take that whip  Lash his face toteach his mouth a lesson  Whip him  Whip him  Cut him  Whip him  Do it Bilal  Obey them  They will kill you  See what anarchy they bring  Theyve even infected our slaves  If youre human enoughto have gods  remember  They are the gods of your owner  I bought your humanity Bilalwhen I', 'an enoughto have gods  remember  They are the gods of your owner  I bought your humanity Bilalwhen I bought you  You will be corrected  One one God  There is only one God  Who is stronger now  Your masteror this one god of yours  One God  There is only one God  Bring the stones  One God  One  one God  Crush him  Break him  Have you finished with him  There is only one God   iOne Godi You could swear the slave was preaching   iOne Godi Lord Umaya  Abu Bakr will pay a dinars for this slave  Wait now  Its agai', ' was preaching   iOne Godi Lord Umaya  Abu Bakr will pay a dinars for this slave  Wait now  Its against our social orderto sell a slave during his correction  The offer is to Lord Umaya    If the price of slaves is raised  we shall have to bailourselves next year  Take him  He is no use to me anymore  Kill him or take himIm finished with him  We are declaring ourselves  God has told his messengerto declare Islam to all men  Open the windows  Let the world hear  We are coming out of the darkness  Hear well t', 'lam to all men  Open the windows  Let the world hear  We are coming out of the darkness  Hear well the word of GodHear well the messenger of God  There are no other gods but Godand Muhammad is his messenger  There are no other gods but Godand Muhammad is his messenger  We have come into light  join us in the march to the Kaaba  God is most greatGod is most great  God has no partner  We have come into light  join us in the march to the Kaaba  Muhammad and his rebellioncalled Islam are coming out  to foul our', 'oin us in the march to the Kaaba  Muhammad and his rebellioncalled Islam are coming out  to foul our godsand dethrone religion  Dont let them reach the Kaaba  Throw them back Defend your gods  There is no god but Godand Muhammad is the messenger of God  There is no god but Godand Muhammad is the messenger of God  There is no god but Godand Muhammad is the messenger of God  Protect the prophet  There is no god but Godand Muhammad is the messenger of God  Guards  God is great  This is blasphemy you idiot  God', ' but Godand Muhammad is the messenger of God  Guards  God is great  This is blasphemy you idiot  God is great  God is great  God is great  There is no god but Godand Muhammad is the messenger of God  Nows the time to break themthere are only  of them  No weve done enough  More will only create sympathy for them  God is great  iStand downiGod is great  God is great  In the name of Godmost gracious most merciful  Say O you who reject faith  I worship not what you worship  iKeep him out of the KaabaiI worship ', 'l  Say O you who reject faith  I worship not what you worship  iKeep him out of the KaabaiI worship not what you worship  iKeep him out of the Kaabai  iLead them outi  Neither do you worship what i worshipiLead them outi  Neither do you worship what i worship  Silence youre a false prophetNeither do you worship what i worship  Silence youre a false prophet  Finish Muhammad  Protect the prophetFinish Muhammad  Protect the prophet  Messenger of Godback to the corner  Hamza Hamza  You are brave  He is the brav', ' Protect the prophet  Messenger of Godback to the corner  Hamza Hamza  You are brave  He is the bravest man in the desert  when he meets unarmed men  Muhammad isis a liar  Liar  If you dont let him speak  Wheres the lie and wheres the truth  when it hasnt been spoken yet  Muhammad is a fraud  Stand up Hit me back if you dare  I affirm my nephews religionand I say what he says  Whoever has the courage to fightfight with me  Muhammad when I hunt the desert at night  I know Godis not kept in a house  Who would', 'fight with me  Muhammad when I hunt the desert at night  I know Godis not kept in a house  Who would have thought that Hamza  Hamza above all  with his wine drinking lion hunting  would come to join Muhammad  The more we attack himmore they seem to join him  Where does he find his words  I dont know  How can an illiterate mango up on a mountain  and come down three days laterblazing with poetry  If it were just poetry  he says its God  How do we fight someone whosestrength we do not understand  Muhammad pro', 'st poetry  he says its God  How do we fight someone whosestrength we do not understand  Muhammad promises heaventrees in the skies  So naturally hes found an audience  Then we must make that audienceless eager to listen to him  We will begin with the weaker ones  Your turn  Have mercy  Stretch her  Who is your GodAnswer me  Say it  Say Hubal is your God  Say it  There is only one God  and Muhammad is the messenger of God  Oh my god  Ammar  Your father and motherare the first martyrs of Islam  You are promis', 'enger of God  Oh my god  Ammar  Your father and motherare the first martyrs of Islam  You are promised paradise  How much are you men prepared to suffer  The Prophet has said we must leave Mecca  If you stay  they will kill you  one by one  Muhammad says that in Abyssiniathere is a Christian King  No man is wronged in his country  We must leave now today  Uthman  God be praised  Let us go  We found their tracksand followed them  but they just disappeared  They were therein the desert under the vultures  and', 'ksand followed them  but they just disappeared  They were therein the desert under the vultures  and you let them escape you  Escape They vanished  If Muhammad has stayedthen only the weakest have gone  Weak or strongtheyll blacken our name  Were honest merchantswe buy and sell in good faith  We cannot afford scandal  Abyssinia  Amr  You are a friend of Annajashi the king  Yes  Can you use that friendship  I think I can bring them back  yes  Abyssinia  Rise up Amr  Please nothing you may askfor that we will', 'think I can bring them back  yes  Abyssinia  Rise up Amr  Please nothing you may askfor that we will not give  Lion of Judah I  I dont know where to begin  You have our friendship  begin there  Certain runaway slaves have escapedfrom us into your kingdom  Slaves go back as you no doubtwould returned our slaves to us  There are however somefree men among them  rebels  Rebels  Disturbance in Arabiawhy am I not informed  They are rebels in religion  At one time or anotherall religions were rebellions  The bodi', 'informed  They are rebels in religion  At one time or anotherall religions were rebellions  The bodies of slaves of the worldand beaten are disposal  But as Jesus Christ as our shepherd  the souls of men are his sheep  These are Arabs who have betrayedthe religion of their fathers  They follow a lunaticthey calla Prophet  But I cannot put souls intochains without hearing them  Good theyre stiffnext well hang them  Do you not bow to yourselfbefore your prophet  Muhammad is a man  we kneel only to God  Where ', 'them  Do you not bow to yourselfbefore your prophet  Muhammad is a man  we kneel only to God  Where are Muhammads miracles Jafar  If he were a prophethed light the sky with miracles  Indeed this is true  God has given his prophetsthe signs of miracles  that we may recognize them  The miracle of Muhammadis the Holy Quran  A book A book  Written by an illiterateattributed to God  I think the emperor has had enough  Im mindful of petty costs  When God set down tongues of fireupon the heads of Christs apostles ', 'ugh  Im mindful of petty costs  When God set down tongues of fireupon the heads of Christs apostles  so they could speak themany languages of the world  that they knew not before  But do such miracles happen in our times  Ive heard enoughYouve made a poor case  When we suffered persecution in Mecca  Muhammad told usgo to Abyssinia  the land of the righteous kingwhere no man is wronged  What they call persecutionwas fair punishment  that is order now  Why did your prophet send you to me  Because you believe ', 'ionwas fair punishment  that is order now  Why did your prophet send you to me  Because you believe in the bookof the one God as we do  He sent us because in your heartGod will protect us  Talking with him is likedrawing water from a mirage  But theyve now belay that duty onme to listen to them my friend  Go on  For years we worshipedwood and stone  images of our own manufacture  We lived in ignorance of God  We had few earthly lawsand no heavenly laws  The rich neglect the poor  And the natural pity of man', ' We had few earthly lawsand no heavenly laws  The rich neglect the poor  And the natural pity of man  whereby he lifts his brotherup when he has fallen  is described by them asupsetting social order  To this inhumanityhas come a man  whom God chose  and in that we believe  Youve overcome I begyou to collect yourself  I speak of the messenger of God  Muhammad teaches usto worship one god  to speak truth  to love our neighbors as ourselves  to give charityeven a smile can be charity  To protect women from mis', 've our neighbors as ourselves  to give charityeven a smile can be charity  To protect women from misuse  to shelter orphans  and to turn away fromgods of wood and stone  I cannot keep still andhear this blasphemy  We are an ancient civilization  to call our gods wood and stoneis to speak ignorantly of them  The idolthe formis not what we worship  but the spirit that resides within the form  I agree that idolatry is notalways fully understood  Thank you  Now let me bring him back to the women  God made woman', 'try is notalways fully understood  Thank you  Now let me bring him back to the women  God made woman to be theproper companion of man  She is different but equal  Equal  We buy them  Feed them clothe them  use them discard them  women equal to us  God created man fromone male and one female  Amr you must respect in allwoman the womb that bore you  Why are your guards so tonguetied  While this only guard is eloquent  God has spoken to us before  through Abraham Noah Mosesand through Jesus Christ  Why should ', 'oquent  God has spoken to us before  through Abraham Noah Mosesand through Jesus Christ  Why should we be so surprised that Godspeaks to us now through Muhammad  Who taught you those names  They are named in the Quran  I knew Muhammad when hewas an orphan minding sheep  And we knew Christ as a carpenter  What Christ saysand what your Muhammad says  is like two raised from the same land  They are lying to youthey deny Christ  You worship three gods they sayFather Son and Holy Ghost they say  What do you say ', 'hey deny Christ  You worship three gods they sayFather Son and Holy Ghost they say  What do you say of Christ  They say God cannot have a son  Christ is not the Son of God  Speak to me of Christ  We say of Christ whatour prophet has taught us  that God cast his holy spirit intothe womb of a virgin named Mary  and that she conceivedChrist the Apostle of God  The Apostle he saysnot the son not the son  What does your miracle your Quransay of the birth of our dear Lord Jesus Christ  May I relate the words  Com', 's your miracle your Quransay of the birth of our dear Lord Jesus Christ  May I relate the words  Come closer to me  In the name of Godmost gracious most merciful  Relate in the book the story of Mary  How she withdrew from herfamily to a place in the east  How we sent to her ourangel Gabriel who said  I am a messenger from your God  to announce the birthof a holy son to you  She said How shall I Mary have a sonwhen no man has touched me  And Gabriel replied  For your Lord says it will happen  We appoint him', 'onwhen no man has touched me  And Gabriel replied  For your Lord says it will happen  We appoint him as a sign onto man  and a mercy from us  It is a thing ordained  The difference between us and you  is not bigger than this line  Not for a mountain of goldwill I give them up to you  You may live in Abyssinia in peace  for as long as you wish  May Gods blessings be upon you  when you return  lntolerable  Mohamed disturbs evenour foreign alliances  Very well  We will make a foreigner of him  Abu Talib  has h', 'med disturbs evenour foreign alliances  Very well  We will make a foreigner of him  Abu Talib  has his arms around him  Very well  We will throw uncleand nephew out  In one bundle his whole family out  We will expel them from ourselves  No merchant may trade with them  No land remain to them  No roof shelter them  No beggar beg for them  No woman marry them  Until they renounce they cant  iThese were the worstyears of Muhammads lifei  iFor three years they suffered the hungerthirst cruelty of the open deser', 'tyears of Muhammads lifei  iFor three years they suffered the hungerthirst cruelty of the open deserti  iBut the year of grief was still to comei  iwhen Khadija Muhammadswife for  years diedi  iWhen Abu Talibhis old Protector diedi  iwith his last breath Abu Talibi  itried again to reconcileMecca and Muhammadi  He never asked more from you  than one word  One  one God  If it were only a question of one wordwe would have given him ten words  But the word he wantswould dethrone all the gods  You were afraid e', ' would have given him ten words  But the word he wantswould dethrone all the gods  You were afraid even to hear him  iWith the death of his uncleMuhammad has now lost all protectioni  iHe was no longer safe in Meccai  iAlone with Zaid his adopted sonhe went to the hillside town of Taifi  iHe asked to be taken into be allowed to preachi  iBut the children ofTaif were turned loosei  ito stone him back into the deserti  What are you doing  Stop Stop  Leave him alone Go away  iMuhammad called thisthe bitterest ', 'deserti  What are you doing  Stop Stop  Leave him alone Go away  iMuhammad called thisthe bitterest day of his lifei  iThen miraculouslyi  iwhen Muhammads missionseemed to have failedi  ihis entire situation changedi  iA deputation from the richbut selfdestroying city of Medinai  imet him by night atthe rocks of Aqabai  iasking him to come to themi  ito stand between their factionsi  ito mediate their continualquarrels and civil warsi  iMuhammad agreedi  iprovided they gave him a pledgei  ithat they worship', 'alquarrels and civil warsi  iMuhammad agreedi  iprovided they gave him a pledgei  ithat they worship the one God onlyi  Wait  When we take this pledge we expelourselves from the rest of Arabia  So wait  War is in this pledge  We are to makeenemies of brothers  We are to makefirewood of our gods  That is the meaning of the pledge  If we take it there canbe no turning back  for Muhammad is indeedthe messenger of God  foretold to us bythe Jews in our city  So if anyone has doubtin this pledge go now  And if yo', 'f God  foretold to us bythe Jews in our city  So if anyone has doubtin this pledge go now  And if you have no doubtsthen you do as I do  I pledge myself tothe one and only God  and to you Muhammadthe messenger of God  He is of us and we are of him  Let him bring his followersour brothers to us to Medina  i Sync Corrections by ii PocongLTTi i  iThis was a journeythat changed the worldi  iThe Hijra or Flight to Medinai  iOnly  peoplei  isplit up into small groupsi  iwalking  miles of deserti  iYet so profound', ' Medinai  iOnly  peoplei  isplit up into small groupsi  iwalking  miles of deserti  iYet so profound were the consequencesi  iso lasting were the effects of this walki  ithat from it the muslimsdate their calendari  iIn this moment Islam found its futurei  iMuhammad himself stayed inMecca in the greatest dangeri  iuntil all his followers had left safelyi  Muhammad has become a nation  he has received a city  entering into pledges and treaties  and you Salool who claimto be king of Medina  lost the kingdom l', 'entering into pledges and treaties  and you Salool who claimto be king of Medina  lost the kingdom last nightwhile you were in bed  You should worry aboutyourself Abu Sufian  Every time you trade awhiff of perfume out the city  you must creep pastthat man in Medina  He is across yourmercantile throat so to speak  And what do you intend to do  l intend to wait  And how long will you wait  Till you and the rest of Arabia remove him  to save your way of life  And while you wait  I should accept his call of cou', ' of Arabia remove him  to save your way of life  And while you wait  I should accept his call of course  Does he think I willgive him my birthright  I will not  Medina is worth the conversion  Hypocrisy  Of course itsa healthy hypocrisy  King Salool  wiping his face on the floor times a day praying  I dont believe you  He may not have to  Well do know what weshould have done before  kill Muhammad  Come come and see  They say that practiceleads to perfection   young men eachfrom a different family  my own so', 'nd see  They say that practiceleads to perfection   young men eachfrom a different family  my own son Ikrima is with them  They will stab him together  If the responsibility for his deathis shared where lies the guilt  My idea  Im not sure Im part of it  Muhammads body contains too much  his mind his words  But it is an ingenious solution  And a final one  No  Ali his cousin laid there to die for him  Who are we fighting  They cannot go far allthe tracks are watched  He must take to the desert  Bakkah will ', ' we fighting  They cannot go far allthe tracks are watched  He must take to the desert  Bakkah will give camels to the man  who brings back Muhammad  or his head  Look for  of them  Muhammad  Abu Bakr  and Uriqat his Bedouin guide  What is it  Theyre not grazing camel  Maybe two days that from the city  Why are you here  Medina is to the north  They make the tracks not I  Nomads Travelling west  I know my art  They say that you can tracka bird by smelling the air  We go with them  He may be in that cave ove', '  They say that you can tracka bird by smelling the air  We go with them  He may be in that cave over there  Muhammad if you come outwe will take you to Mecca alive  Muhammad come out  They cant be in therethisthis web is unbroken  And these pigeonsthey would not build  We were wrong to follow themwe should have gone north  Lets move then  We still have time to head them off  iA few threads of a spiders webi  iwere all that was then betweenMuhammad and murderi  iBut he was a man not to be killedi  iThe Bedo', ' iwere all that was then betweenMuhammad and murderi  iBut he was a man not to be killedi  iThe Bedouin guide led him and hiscompanion Abu Bakr in their escapei  ithrough untracked spaces of the desertand the heat of the June daysi  iAt Medina his followerswaited with their welcome readyi  ibut in great fear for his journeyi  Anything  No nothing  He himself says he is only a man  No man can survive that heat   There I see them Look  Run and hide  I may be obligedto free you as a gesture  Welcome to the cit', '   There I see them Look  Run and hide  I may be obligedto free you as a gesture  Welcome to the cityof Medina the blessed  Your city messenger of God  You will stay with memessenger of God  I have the best house in Medina  You will give me thehonor of keeping you  Stay with me  Please Please Please  How can the Prophet choosebetween so many welcomes  Where God guides his camel to stopthere he will build his house  All agreed  We turn Quaswa his camel loose  and where Quaswa sits the Prophet stays  Clever m', 'house  All agreed  We turn Quaswa his camel loose  and where Quaswa sits the Prophet stays  Clever man  A choice made by acamel can offend no one  Here we will buildthe house of the Prophet  And our first meetingplace a prayer house  The first mosque of Islam here  God is great God is great  What is the prophet of God doing  Carrying bricks  Give me that  Look you are doing too much  Please go and sit downwell do it  Look He went for more  Work is a worship he says  Hes  years old  How old are you  There is', 'l do it  Look He went for more  Work is a worship he says  Hes  years old  How old are you  There is something missing  Maybe a bell to call the people in   The Christians use a bell Mmm yes  What about a horn like the Jews  A drum  Theres too much blood in a drum  Why not the human voice  as in Umar ibn Khattabs vision  The Prophet agrees  He means you Bilal  Me  You have a good voice use it  Climb up there  Brothers  Today a man of Medina  will embrace a man of Mecca  Each will share half and half  Reach ', ' Brothers  Today a man of Medina  will embrace a man of Mecca  Each will share half and half  Reach out embrace yourneighbor and brother  Im tired of the politics ofkissing slaves read this  The prophet should concernhimself with the afterworld  How is my son  Praying like a horse  Does it burn your hands  If its not torn upit will burn down the house  Hes making laws like a king  He has declared that loyalty to Islamis more than loyalty to tribal family  What  All muslims are next of kin to oneanother  Don', ' to Islamis more than loyalty to tribal family  What  All muslims are next of kin to oneanother  Dont be mislead by that  They must change thenature of the tribes before that  The danger is here equality  a mans neighbour is as good as himself  The lunatic means it  Jews and Christians haveequal rights with Muslims  The Jews who attach themselves to acommon wealth shall be protected   Women have rights of inheritance Rights  Next hell be giving the camel rights  He has The lunatic hasYou cant overload them ', 'eritance Rights  Next hell be giving the camel rights  He has The lunatic hasYou cant overload them  Hes remaking a city my city  Damn him  Hes taken our sons from usour future from us  His rights are wrongs  No more  This time it willnot be just his riffraff  We will take everything ofvalue they have left in Mecca  Their rugs their houses their silver  and with it a large of caravan to Damascus  My friends listen to me  I have news from Mecca  Everything you have left behind is gone  The thieves  Abu Bakrs', 'isten to me  I have news from Mecca  Everything you have left behind is gone  The thieves  Abu Bakrs shopsthe prophets house sold  Every cup or piece of cloth  every rag or bone you everowned is thrown on the market  You are a people of nothing  Dont you even fight for what you own  Who talks of the fight  What other way is there Hamza  When the Prophetsays fight we fight  Now he says peace  Exactly  You are a peace loving people  Up to your necks and forebearers  Go back to work  We have to defend ourselve', 'a peace loving people  Up to your necks and forebearers  Go back to work  We have to defend ourselves  You are the messenger of God  Yet they mock  abuse and plunder usand we do nothing  In the package of war we are pathetic  But they are led by greed  We are led by Godand you  Now I  I know how you hate the sword  but we have to fight  They have stolen our property  They are taking it to Damascusright past our own door  I say by God get back  Im sorry Im carried away  Its the pounding in my head  Please fi', 'ur own door  I say by God get back  Im sorry Im carried away  Its the pounding in my head  Please fight them  But look at the sun  Its not the time for prayer  It is newly revealedby God to his messenger  Fight but fight in the way of Godagainst those who fight against you  Drive them out of the placeswhere they drove you out  for persecution is worse than slaughter  Fight them until persecution is no more  and religion is for God  But if they stop  let there be no more war  for God never lovesthe starter o', 'nd religion is for God  But if they stop  let there be no more war  for God never lovesthe starter of wars  So fight in the way of God  against those who fight against you   God is great God is great God is great   God is great God is great  These are the disciplinesthe Prophet puts upon you  You may not harm a womana child or any old person  You may not harm cripples  You may not harm theman that works in the field  You may not cut down trees  Strike only at those who have expelled you  Who have stolen you', 'e field  You may not cut down trees  Strike only at those who have expelled you  Who have stolen your rights andriched themselves with your possessions  Now to the wells of Badr  News from Medina  Arm arm yourselvesArm yourselves  Defend your wealth  Muhammad has come out of Medinato attack the great caravan   How many men Three hundred two horses  We man a  horsesHow many camels   Seventy Well bring a hundred and seventy  And load twenty of my camelswith wine well make a feast of it  This is a war Id like ', 'd and seventy  And load twenty of my camelswith wine well make a feast of it  This is a war Id like to fight  a war we cannot lose  Ride to Abu Sofyans caravantell him to turn towards Badr  We will join our forcestomorrow at the wells of Badr  The wells of Badr here  Muhammads march here  My charge of the caravan here  One days march  meet them at the wells  I dont like it  There is too much of Meccain my caravan to be risked  Put out the firesHold the camels  We are turning westaway from the wells  AwayYou', 'avan to be risked  Put out the firesHold the camels  We are turning westaway from the wells  AwayYou cant  You must meet them at Badr  We can drink them down like raw eggs  If I run all night Ill be out ofMuhammads reach by morning  Where is your honor Abu Sofyan  Honor  My honor is on thebacks of my camels  Yes I run  Muhammad has occupied the wells  He has moved directlyinto our line of march  Abu Sofyan has broken campHes moving west away from Badr  The caravan is safe  So there is no need to fight  Not ', 's broken campHes moving west away from Badr  The caravan is safe  So there is no need to fight  Not fight  If we fight we will startblood feuds between brothers  Between father and son you mean  Hudayfa your own son is with themhe should have been whipped  Mecca is greater than your family  Waleed your second sonhe is your true blood  I say fight  We stand in the presentlet the future look after itself  Otba is not a coward  We finish them tomorrow   We fight We fight  Are you finished  Form ranks battle po', 'is not a coward  We finish them tomorrow   We fight We fight  Are you finished  Form ranks battle positions  Each man to his own place  Go back to your columns  Move away move back  So Muhammads filled the wells  Now everyone brought herewill have to fight for theirs  Good we fight  Brothers we hold the wells  We stand in the name ofGod and his messenger  We wait  Send us your champions  BATTLE OF BADR  Who are you  We expect our peersand our equals  Come back  My brother Shaiba  My son Waleed  And myself  ', 're you  We expect our peersand our equals  Come back  My brother Shaiba  My son Waleed  And myself  Not you  Ubaida and I  and Ali  Are we your equals  There is only one God  and Muhammad is His messenger  Archers Advance  Archers  Hold  stretch  Stretch  Stretch  Archers  Archers back  They are regrouping  Forward  Ready  Lancers  God is great  Archers  God is great God is great  Umaya  Umaya  Bilal  God is great  Onward to victory  God is great  The Prophet has seen you  You are not to ropeor drag the pri', 'great  Onward to victory  God is great  The Prophet has seen you  You are not to ropeor drag the prisoners   They wouldve roped us Cut them loose  I said cut them loose  And give them water  And share your foodequal mouthfulls  And if they walk walk beside them  Any prisoner who can teach Muslims to read will go free  Why dont they go away  Because they blame me Hindfor whatever reason good or bad  I should have joined them anddrown at the wells of Badr with them  but I saved the caravanand our future with ', 'ave joined them anddrown at the wells of Badr with them  but I saved the caravanand our future with it  Why sing at me  Why sing my father andmy brother as its not me  Do you think Ineed you to remind me  Muhammad Ali Hamza  With my nails Hamza  I will give you measure formeasure with my nails  killer cut throat butcher  Murdering beast  You slaughtered my father  Hamza  I will hunt a lion hunter  I will make Hamzaa running lion my prey  And when you are dead HamzaI will cut your heart out  taste your blood', ' Hamzaa running lion my prey  And when you are dead HamzaI will cut your heart out  taste your bloodcut you into pieces  I forbit this wailingit cannot go on  What we should do we will do  We will call in our alliesraise a new army against them  This time we willprepare it and plan it  Hamza  Come to prayer  Come to prayer  Come to victory  Come to victory  God is great  There is no god but God  Is it a plague  What kind of an upside downtown have we come in to  You could fill yourpockets very nicely here  ', 'e  What kind of an upside downtown have we come in to  You could fill yourpockets very nicely here  No merchant is minding his shop  God is minding the shop   Where do you come from Yemen  Did you stop in Mecca  It is on the road  You didnt answer my question  did you stop in Mecca  Long enough to rest my camels  Camels rest better in Meccathan anywhere in the world  Yes  What is the word on the desert  Oh it is bad for you  They are gathering  every young man with asword is on his way to Mecca  Our strengt', ' is bad for you  They are gathering  every young man with asword is on his way to Mecca  Our strength is here  Do not underestimate them  They are summoning up their courage  In Mecca there is music in every house  An Abyssinian slave watch himHe is good he is vicious watch him  I will free you  give you your weight in silver  and your height in silk  for one throw like this  So they have come at last  Well know how many soon enough  Its a big army  Three thousand menhundreds of horses  We beat them at Badr', 'now how many soon enough  Its a big army  Three thousand menhundreds of horses  We beat them at Badr  That was a year ago  They have come to revenge Badr  Go home and get your swords  Soldiers of Mecca  Blood master blood  Avenge the dead of Badr  BATTLE OF UHUD  There Hamza can you see him  He is your fortune  Ubada  Those horsemen on the flank out there  theyre oddly placed   They are under Khalid Khalid  I often thought of that young man  Hamza  Yes  The Prophet asks if youhave noticed those horsemen  Ye', ' often thought of that young man  Hamza  Yes  The Prophet asks if youhave noticed those horsemen  Yes I have  I dont like them  Hes sending out archers to watch them  No matter what happensthe archers must hold off those horsemen  Zaid tell the Prophet we are ready  What do you think Hamza  Well they outnumber usso Id say its a fair fight  We see themand they see us  What faces me has never frightened me   All praise be to Hubal Hubal  When Muhammad gives the word  we will go to them  Hamza  Weapons ready  ', 'l praise be to Hubal Hubal  When Muhammad gives the word  we will go to them  Hamza  Weapons ready  We march now  Attack  Theyve killed Hamza  On to them  You take this Fight back  Where are you going  Fight Fight  Fight back  This is a moment of victory  Theyre running awayfrom us lets get the loot  Stand where you are told to stand  Come back to your positions  All of you come back  Its a road  Our centre is gone  Weve lost the battle Khalid  Not yet  Hold on  Where is the prophet  Muhammad is deadI saw h', 's gone  Weve lost the battle Khalid  Not yet  Hold on  Where is the prophet  Muhammad is deadI saw him fall  No no Hes alive Find him  Back back to the mountains  Halt  I thought we were beaten  Now victory is yours Khalid  We have no victory untilwe have finished Muhammad  He is up in those rocks  We have finished our businesswe have avenged Badr  But we can end him and Islam forever  Some of his fanatics are still with him  They have theadvantage of the mountains  the risk is too high  Muhammad listen  A ', 'e still with him  They have theadvantage of the mountains  the risk is too high  Muhammad listen  A day for a day  The day of Uhubfor the day of Badr  Our dead have answered to your dead  Our dead are in paradiseyour dead are in hell fire  Hamza Hamza  Do you hear me Hamza  Do you know thatI am with you I Hind  Do you remember anything Hamza  How you killed myfather and my brother  Now you too are dead  My heart is lightDo you hear Hamza Light  But I havent finished with you  Death is too small  Wahshi cut ', 'art is lightDo you hear Hamza Light  But I havent finished with you  Death is too small  Wahshi cut him open cut him  They lost a battleand what do they do  They come home anddig the ground harder   Theyre mad I agree with you  They defy reasonthey are even happy they lost  God sent their defeat they sayto try them in their faith  Oh yes They arefighting with the sky  Theyll get what they want  They want Mecca  Theyll get Mecca  When we see the stars at noon  Dont underestimate themIve learned that to my co', 'a  Theyll get Mecca  When we see the stars at noon  Dont underestimate themIve learned that to my cost  My friend Mecca ismore than their home  Its where God spoke to man  Mecca is like ahomesickness to the soul  This year theyre going as pilgrims  What  Unarmed  Unarmed  Abu Sofyan will slaughterthem in the desert  If you believe in God as they do  it might be possiblenot to get slaughtered  But I agree with youthey probably will be  Be still  Do not let them provoke youthat is what they want  Stand firm  ', ' youthey probably will be  Be still  Do not let them provoke youthat is what they want  Stand firm  Peace be to you  The Prophet says All who love God  must renew their oaths to him  Under the tree  Theyve sent someone else  Its Suheil  That means we mightcome to an agreement  Muhammad you have beengiven conditions of truce  between yourself and Mecca  Have you agreed to them yet  What is this  In the name of God the most gracious  Who is this new Godthey call gracious  I do not know himstrike him out  And ', ' God the most gracious  Who is this new Godthey call gracious  I do not know himstrike him out  And I cannot agree with this  Muhammad the messenger of God  If I have thought youwere the messenger of God  I would not have fought you  Make it Muhammad the son of Abdullahagrees with Suhayl the son of Amr  That is more factual  Well so I understand  Good that is better  Now it is agreed  that you do notcontinue your pilgrimage  you must turn around and go home  Mecca is home  However  you may continue yourpilg', 'your pilgrimage  you must turn around and go home  Mecca is home  However  you may continue yourpilgrimage next year  and for  days only  in and out  We also agree to thetruce for  years  During that time  you will not attack any tribe  or ambush any caravan  or any individual associatedwith us and vice versa  If you injure any oneof us the truce ends  and vice versa  Is that clear  Ten years ten years of peace  We need that time  We will use that time  These letters from Muhammadmessenger of God  to the ru', 'ce  We need that time  We will use that time  These letters from Muhammadmessenger of God  to the rulers of the world  call the world to Islam  To Heraclius Emperor of Byzantium  Kisra Emperor of Persia  Muqawqis Patriarch of Alexandria  God go with you  God is great God is great God is great  There are no different races in Islam  An Arab is not superior to a foreigner  Nor a white man superior to a black  All return equally to God  Unless you desire for your neighbourwhat you desire for yourself  you dont', 'll return equally to God  Unless you desire for your neighbourwhat you desire for yourself  you dont have faith  A man goes to bed with his belly fullwhile his neighbor is hungry  he isnt a Muslim  The Ink of a scholar is holierthan the blood of a martyr  A man reading is handsomein the sight of God  So learn to read  And when you have learned  teach  The people of the book  the Jews with their Biblethe Christians with their testament  must be respected by you  For their books likewisecame from God  You mus', 'tians with their testament  must be respected by you  For their books likewisecame from God  You must not think ofMuhammad as more than a man  He was collecting firewood one day  Let me do it I said  Why he said  You are the prophet of God  You cant go aroundscratching for firewood  But he looked at me mumbling  God does not like the man who considershimself above other men he said  So I laid back and watched him  Suddenly he stopped  He stood to his fullheight and came to me  Yes I am the prophet of God he', ' him  Suddenly he stopped  He stood to his fullheight and came to me  Yes I am the prophet of God he said  But even I do not knowwhat will become of me  Amr have you come to take me again  No  I have come to ask you to take me  I witness that there is only one God  and that Muhammad is His messenger  May God forgive me the timesI have fought against you  Islam does away withall that went before it  Im sorry I came in here wearing  Here are my jewels  What they are worth  I give to the poor   And may I offer', ' came in here wearing  Here are my jewels  What they are worth  I give to the poor   And may I offer you my Yes  But you were thebitterest sword against Islam  Now by the will of God  I will be the raised sword of God  Ah its all easy to God  Just as he makes dying livinghe can make losing winning  Two years ago we thought we werebeaten when we had to sign that truce  Look at us now  Charging from victory tovictory in the hearts of men  Whats that  Abu Sofyan is comingAbu Sofyan  Why am I insulted like this', 'ictory in the hearts of men  Whats that  Abu Sofyan is comingAbu Sofyan  Why am I insulted like this  Im Abu Sofyan  I expect some courtesy  We are not at warwe have a truce  I have come to speak toMuhammad where is he  He is in the mosque  Muhammad we did not break the truce  I have come to reaffirm the truce  I speak for Mecca  Muhammad why do you turn from me  Dont go  Muhammad dont go  Bedouins broke the truce not us  The night was dark  I am here to testifythe night was dark  Barra Barra this is your c', 'truce not us  The night was dark  I am here to testifythe night was dark  Barra Barra this is your city  Hudayfa you are my kinaim to see for me  I must be heard  I am Mecca  I am the leader of Mecca  Why am I insulted like this  Because you keep no promiseand respect no pledge  I have heard whatI never thought Id hear  Abu Sofyan asking for pity  To be outfought outfought  outmaneuvered by a onetime shepherd  You saw that shepherdsreligion grow from a speck  Speck was in my eye  I could see nothing  Tell M']\n"
     ]
    }
   ],
   "source": [
    "print(df['subtitle_content'][0][:100])"
   ]
  },
  {
   "cell_type": "code",
   "execution_count": 15,
   "id": "08fd2311-358a-4e69-b294-934e7f4d571d",
   "metadata": {
    "scrolled": true
   },
   "outputs": [
    {
     "name": "stderr",
     "output_type": "stream",
     "text": [
      "100%|████████████████████████████████████████████████████████████████████████████████████████| 500/500 [00:00<?, ?it/s]\n"
     ]
    }
   ],
   "source": [
    " df['name'] = df['name'].progress_apply(lambda x: re.sub('\\.', ' ', x))"
   ]
  },
  {
   "cell_type": "code",
   "execution_count": 16,
   "id": "959b694b-903a-4a60-9585-0ea90fbc920d",
   "metadata": {},
   "outputs": [
    {
     "data": {
      "text/html": [
       "<div>\n",
       "<style scoped>\n",
       "    .dataframe tbody tr th:only-of-type {\n",
       "        vertical-align: middle;\n",
       "    }\n",
       "\n",
       "    .dataframe tbody tr th {\n",
       "        vertical-align: top;\n",
       "    }\n",
       "\n",
       "    .dataframe thead th {\n",
       "        text-align: right;\n",
       "    }\n",
       "</style>\n",
       "<table border=\"1\" class=\"dataframe\">\n",
       "  <thead>\n",
       "    <tr style=\"text-align: right;\">\n",
       "      <th></th>\n",
       "      <th>num</th>\n",
       "      <th>name</th>\n",
       "      <th>subtitles</th>\n",
       "      <th>subtitle_content</th>\n",
       "    </tr>\n",
       "  </thead>\n",
       "  <tbody>\n",
       "    <tr>\n",
       "      <th>0</th>\n",
       "      <td>9180533</td>\n",
       "      <td>the message (1976) eng 1cd</td>\n",
       "      <td>Watch any video online with OpenSUBTITLESFre...</td>\n",
       "      <td>[  Watch any video online with OpenSUBTITLESFr...</td>\n",
       "    </tr>\n",
       "    <tr>\n",
       "      <th>1</th>\n",
       "      <td>9180583</td>\n",
       "      <td>here comes the grump s01 e09 joltin jack in bo...</td>\n",
       "      <td>Ah Theres PrincessDawn and Terry with the  B...</td>\n",
       "      <td>[  Ah Theres PrincessDawn and Terry with the  ...</td>\n",
       "    </tr>\n",
       "    <tr>\n",
       "      <th>2</th>\n",
       "      <td>9180592</td>\n",
       "      <td>yumis cells s02 e13 episode 2 13 (2022) eng 1cd</td>\n",
       "      <td>iYumis Cells i  iEpisode Extremely Polite Yu...</td>\n",
       "      <td>[  iYumis Cells i  iEpisode Extremely Polite Y...</td>\n",
       "    </tr>\n",
       "    <tr>\n",
       "      <th>3</th>\n",
       "      <td>9180594</td>\n",
       "      <td>yumis cells s02 e14 episode 2 14 (2022) eng 1cd</td>\n",
       "      <td>Watch any video online with OpenSUBTITLESFre...</td>\n",
       "      <td>[  Watch any video online with OpenSUBTITLESFr...</td>\n",
       "    </tr>\n",
       "    <tr>\n",
       "      <th>4</th>\n",
       "      <td>9180600</td>\n",
       "      <td>broker (2022) eng 1cd</td>\n",
       "      <td>Watch any video online with OpenSUBTITLESFre...</td>\n",
       "      <td>[  Watch any video online with OpenSUBTITLESFr...</td>\n",
       "    </tr>\n",
       "  </tbody>\n",
       "</table>\n",
       "</div>"
      ],
      "text/plain": [
       "       num                                               name  \\\n",
       "0  9180533                         the message (1976) eng 1cd   \n",
       "1  9180583  here comes the grump s01 e09 joltin jack in bo...   \n",
       "2  9180592    yumis cells s02 e13 episode 2 13 (2022) eng 1cd   \n",
       "3  9180594    yumis cells s02 e14 episode 2 14 (2022) eng 1cd   \n",
       "4  9180600                              broker (2022) eng 1cd   \n",
       "\n",
       "                                           subtitles  \\\n",
       "0    Watch any video online with OpenSUBTITLESFre...   \n",
       "1    Ah Theres PrincessDawn and Terry with the  B...   \n",
       "2    iYumis Cells i  iEpisode Extremely Polite Yu...   \n",
       "3    Watch any video online with OpenSUBTITLESFre...   \n",
       "4    Watch any video online with OpenSUBTITLESFre...   \n",
       "\n",
       "                                    subtitle_content  \n",
       "0  [  Watch any video online with OpenSUBTITLESFr...  \n",
       "1  [  Ah Theres PrincessDawn and Terry with the  ...  \n",
       "2  [  iYumis Cells i  iEpisode Extremely Polite Y...  \n",
       "3  [  Watch any video online with OpenSUBTITLESFr...  \n",
       "4  [  Watch any video online with OpenSUBTITLESFr...  "
      ]
     },
     "execution_count": 16,
     "metadata": {},
     "output_type": "execute_result"
    }
   ],
   "source": [
    "df.head()"
   ]
  },
  {
   "cell_type": "code",
   "execution_count": 17,
   "id": "b7741095-62f6-4bb9-b024-27c86381a6d7",
   "metadata": {},
   "outputs": [
    {
     "name": "stderr",
     "output_type": "stream",
     "text": [
      "100%|████████████████████████████████████████████████████████████████████████████████████| 1/1 [00:00<00:00, 64.00it/s]\n"
     ]
    }
   ],
   "source": [
    "with tqdm(total=1) as pbar:\n",
    "    df = df.explode('subtitle_content', ignore_index=False)\n",
    "    pbar.update()"
   ]
  },
  {
   "cell_type": "code",
   "execution_count": 18,
   "id": "3a068dce-a3d9-4d93-9e29-64f01a14dfc7",
   "metadata": {},
   "outputs": [
    {
     "data": {
      "text/plain": [
       "(32493, 4)"
      ]
     },
     "execution_count": 18,
     "metadata": {},
     "output_type": "execute_result"
    }
   ],
   "source": [
    "df.shape"
   ]
  },
  {
   "cell_type": "code",
   "execution_count": 19,
   "id": "e6ca0e43-bd59-4d2b-afdc-355c77c4f65b",
   "metadata": {},
   "outputs": [],
   "source": [
    "df.drop(['subtitles'],axis=1,inplace=True)"
   ]
  },
  {
   "cell_type": "code",
   "execution_count": 21,
   "id": "7b297a8f",
   "metadata": {},
   "outputs": [
    {
     "name": "stdout",
     "output_type": "stream",
     "text": [
      "Collecting chromadb\n",
      "  Downloading chromadb-0.5.0-py3-none-any.whl (526 kB)\n",
      "     -------------------------------------- 526.8/526.8 kB 8.3 MB/s eta 0:00:00\n",
      "Collecting overrides>=7.3.1\n",
      "  Downloading overrides-7.7.0-py3-none-any.whl (17 kB)\n",
      "Collecting kubernetes>=28.1.0\n",
      "  Using cached kubernetes-29.0.0-py2.py3-none-any.whl (1.6 MB)\n",
      "Requirement already satisfied: orjson>=3.9.12 in c:\\users\\admin\\documents\\python scripts\\lib\\site-packages (from chromadb) (3.10.3)\n",
      "Collecting typer>=0.9.0\n",
      "  Downloading typer-0.12.3-py3-none-any.whl (47 kB)\n",
      "     ---------------------------------------- 47.2/47.2 kB 2.3 MB/s eta 0:00:00\n",
      "Collecting fastapi>=0.95.2\n",
      "  Downloading fastapi-0.111.0-py3-none-any.whl (91 kB)\n",
      "     ---------------------------------------- 92.0/92.0 kB 1.0 MB/s eta 0:00:00\n",
      "Requirement already satisfied: tenacity>=8.2.3 in c:\\users\\admin\\documents\\python scripts\\lib\\site-packages (from chromadb) (8.3.0)\n",
      "Collecting opentelemetry-sdk>=1.2.0\n",
      "  Downloading opentelemetry_sdk-1.24.0-py3-none-any.whl (106 kB)\n",
      "     -------------------------------------- 106.1/106.1 kB 6.0 MB/s eta 0:00:00\n",
      "Collecting opentelemetry-exporter-otlp-proto-grpc>=1.2.0\n",
      "  Downloading opentelemetry_exporter_otlp_proto_grpc-1.24.0-py3-none-any.whl (18 kB)\n",
      "Collecting onnxruntime>=1.14.1\n",
      "  Downloading onnxruntime-1.17.3-cp310-cp310-win_amd64.whl (5.6 MB)\n",
      "     ---------------------------------------- 5.6/5.6 MB 5.2 MB/s eta 0:00:00\n",
      "Collecting tokenizers>=0.13.2\n",
      "  Downloading tokenizers-0.19.1-cp310-none-win_amd64.whl (2.2 MB)\n",
      "     ---------------------------------------- 2.2/2.2 MB 3.8 MB/s eta 0:00:00\n",
      "Collecting tqdm>=4.65.0\n",
      "  Using cached tqdm-4.66.4-py3-none-any.whl (78 kB)\n",
      "Requirement already satisfied: numpy>=1.22.5 in c:\\users\\admin\\documents\\python scripts\\lib\\site-packages (from chromadb) (1.23.5)\n",
      "Collecting mmh3>=4.0.1\n",
      "  Downloading mmh3-4.1.0-cp310-cp310-win_amd64.whl (31 kB)\n",
      "Collecting pypika>=0.48.9\n",
      "  Downloading PyPika-0.48.9.tar.gz (67 kB)\n",
      "     ---------------------------------------- 67.3/67.3 kB 3.6 MB/s eta 0:00:00\n",
      "  Installing build dependencies: started\n",
      "  Installing build dependencies: finished with status 'done'\n",
      "  Getting requirements to build wheel: started\n",
      "  Getting requirements to build wheel: finished with status 'done'\n",
      "  Preparing metadata (pyproject.toml): started\n",
      "  Preparing metadata (pyproject.toml): finished with status 'done'\n",
      "Collecting uvicorn[standard]>=0.18.3\n",
      "  Using cached uvicorn-0.29.0-py3-none-any.whl (60 kB)\n",
      "Requirement already satisfied: pydantic>=1.9 in c:\\users\\admin\\documents\\python scripts\\lib\\site-packages (from chromadb) (2.5.3)\n",
      "Collecting posthog>=2.4.0\n",
      "  Downloading posthog-3.5.0-py2.py3-none-any.whl (41 kB)\n",
      "     ---------------------------------------- 41.3/41.3 kB 1.9 MB/s eta 0:00:00\n",
      "Requirement already satisfied: PyYAML>=6.0.0 in c:\\users\\admin\\documents\\python scripts\\lib\\site-packages (from chromadb) (6.0)\n",
      "Collecting importlib-resources\n",
      "  Using cached importlib_resources-6.4.0-py3-none-any.whl (38 kB)\n",
      "Collecting opentelemetry-instrumentation-fastapi>=0.41b0\n",
      "  Downloading opentelemetry_instrumentation_fastapi-0.45b0-py3-none-any.whl (11 kB)\n",
      "Requirement already satisfied: requests>=2.28 in c:\\users\\admin\\documents\\python scripts\\lib\\site-packages (from chromadb) (2.28.1)\n",
      "Requirement already satisfied: typing-extensions>=4.5.0 in c:\\users\\admin\\documents\\python scripts\\lib\\site-packages (from chromadb) (4.9.0)\n",
      "Collecting chroma-hnswlib==0.7.3\n",
      "  Downloading chroma_hnswlib-0.7.3-cp310-cp310-win_amd64.whl (150 kB)\n",
      "     -------------------------------------- 150.6/150.6 kB 8.8 MB/s eta 0:00:00\n",
      "Collecting bcrypt>=4.0.1\n",
      "  Downloading bcrypt-4.1.3-cp39-abi3-win_amd64.whl (158 kB)\n",
      "     -------------------------------------- 158.1/158.1 kB 3.2 MB/s eta 0:00:00\n",
      "Collecting build>=1.0.3\n",
      "  Downloading build-1.2.1-py3-none-any.whl (21 kB)\n",
      "Requirement already satisfied: grpcio>=1.58.0 in c:\\users\\admin\\documents\\python scripts\\lib\\site-packages (from chromadb) (1.62.2)\n",
      "Collecting opentelemetry-api>=1.2.0\n",
      "  Downloading opentelemetry_api-1.24.0-py3-none-any.whl (60 kB)\n",
      "     ---------------------------------------- 60.1/60.1 kB 3.1 MB/s eta 0:00:00\n",
      "Requirement already satisfied: colorama in c:\\users\\admin\\documents\\python scripts\\lib\\site-packages (from build>=1.0.3->chromadb) (0.4.6)\n",
      "Requirement already satisfied: tomli>=1.1.0 in c:\\users\\admin\\documents\\python scripts\\lib\\site-packages (from build>=1.0.3->chromadb) (2.0.1)\n",
      "Collecting pyproject_hooks\n",
      "  Downloading pyproject_hooks-1.1.0-py3-none-any.whl (9.2 kB)\n",
      "Requirement already satisfied: packaging>=19.1 in c:\\users\\admin\\documents\\python scripts\\lib\\site-packages (from build>=1.0.3->chromadb) (23.2)\n",
      "Collecting starlette<0.38.0,>=0.37.2\n",
      "  Using cached starlette-0.37.2-py3-none-any.whl (71 kB)\n",
      "Collecting httpx>=0.23.0\n",
      "  Using cached httpx-0.27.0-py3-none-any.whl (75 kB)\n",
      "Collecting python-multipart>=0.0.7\n",
      "  Using cached python_multipart-0.0.9-py3-none-any.whl (22 kB)\n",
      "Collecting fastapi-cli>=0.0.2\n",
      "  Downloading fastapi_cli-0.0.3-py3-none-any.whl (9.2 kB)\n",
      "Collecting email_validator>=2.0.0\n",
      "  Using cached email_validator-2.1.1-py3-none-any.whl (30 kB)\n",
      "Requirement already satisfied: ujson!=4.0.2,!=4.1.0,!=4.2.0,!=4.3.0,!=5.0.0,!=5.1.0,>=4.0.1 in c:\\users\\admin\\documents\\python scripts\\lib\\site-packages (from fastapi>=0.95.2->chromadb) (5.4.0)\n",
      "Requirement already satisfied: jinja2>=2.11.2 in c:\\users\\admin\\documents\\python scripts\\lib\\site-packages (from fastapi>=0.95.2->chromadb) (3.1.2)\n",
      "Collecting oauthlib>=3.2.2\n",
      "  Using cached oauthlib-3.2.2-py3-none-any.whl (151 kB)\n",
      "Requirement already satisfied: certifi>=14.05.14 in c:\\users\\admin\\documents\\python scripts\\lib\\site-packages (from kubernetes>=28.1.0->chromadb) (2022.12.7)\n",
      "Requirement already satisfied: google-auth>=1.0.1 in c:\\users\\admin\\documents\\python scripts\\lib\\site-packages (from kubernetes>=28.1.0->chromadb) (2.29.0)\n",
      "Collecting requests-oauthlib\n",
      "  Using cached requests_oauthlib-2.0.0-py2.py3-none-any.whl (24 kB)\n",
      "Requirement already satisfied: websocket-client!=0.40.0,!=0.41.*,!=0.42.*,>=0.32.0 in c:\\users\\admin\\documents\\python scripts\\lib\\site-packages (from kubernetes>=28.1.0->chromadb) (0.58.0)\n",
      "Requirement already satisfied: urllib3>=1.24.2 in c:\\users\\admin\\documents\\python scripts\\lib\\site-packages (from kubernetes>=28.1.0->chromadb) (1.26.14)\n",
      "Requirement already satisfied: python-dateutil>=2.5.3 in c:\\users\\admin\\documents\\python scripts\\lib\\site-packages (from kubernetes>=28.1.0->chromadb) (2.8.2)\n",
      "Requirement already satisfied: six>=1.9.0 in c:\\users\\admin\\documents\\python scripts\\lib\\site-packages (from kubernetes>=28.1.0->chromadb) (1.16.0)\n",
      "Requirement already satisfied: flatbuffers in c:\\users\\admin\\documents\\python scripts\\lib\\site-packages (from onnxruntime>=1.14.1->chromadb) (24.3.25)\n",
      "Collecting coloredlogs\n",
      "  Using cached coloredlogs-15.0.1-py2.py3-none-any.whl (46 kB)\n",
      "Requirement already satisfied: sympy in c:\\users\\admin\\documents\\python scripts\\lib\\site-packages (from onnxruntime>=1.14.1->chromadb) (1.11.1)\n",
      "Requirement already satisfied: protobuf in c:\\users\\admin\\documents\\python scripts\\lib\\site-packages (from onnxruntime>=1.14.1->chromadb) (4.21.12)\n",
      "Collecting importlib-metadata<=7.0,>=6.0\n",
      "  Downloading importlib_metadata-7.0.0-py3-none-any.whl (23 kB)\n",
      "Collecting deprecated>=1.2.6\n",
      "  Downloading Deprecated-1.2.14-py2.py3-none-any.whl (9.6 kB)\n",
      "Collecting opentelemetry-proto==1.24.0\n",
      "  Downloading opentelemetry_proto-1.24.0-py3-none-any.whl (50 kB)\n",
      "     ---------------------------------------- 50.8/50.8 kB 1.3 MB/s eta 0:00:00\n",
      "Collecting opentelemetry-exporter-otlp-proto-common==1.24.0\n",
      "  Downloading opentelemetry_exporter_otlp_proto_common-1.24.0-py3-none-any.whl (17 kB)\n",
      "Requirement already satisfied: googleapis-common-protos~=1.52 in c:\\users\\admin\\documents\\python scripts\\lib\\site-packages (from opentelemetry-exporter-otlp-proto-grpc>=1.2.0->chromadb) (1.63.0)\n",
      "Collecting opentelemetry-instrumentation==0.45b0\n",
      "  Downloading opentelemetry_instrumentation-0.45b0-py3-none-any.whl (28 kB)\n",
      "Collecting opentelemetry-instrumentation-asgi==0.45b0\n",
      "  Downloading opentelemetry_instrumentation_asgi-0.45b0-py3-none-any.whl (14 kB)\n",
      "Collecting opentelemetry-semantic-conventions==0.45b0\n",
      "  Downloading opentelemetry_semantic_conventions-0.45b0-py3-none-any.whl (36 kB)\n",
      "Collecting opentelemetry-util-http==0.45b0\n",
      "  Downloading opentelemetry_util_http-0.45b0-py3-none-any.whl (6.9 kB)\n",
      "Requirement already satisfied: setuptools>=16.0 in c:\\users\\admin\\documents\\python scripts\\lib\\site-packages (from opentelemetry-instrumentation==0.45b0->opentelemetry-instrumentation-fastapi>=0.41b0->chromadb) (65.6.3)\n",
      "Requirement already satisfied: wrapt<2.0.0,>=1.0.0 in c:\\users\\admin\\documents\\python scripts\\lib\\site-packages (from opentelemetry-instrumentation==0.45b0->opentelemetry-instrumentation-fastapi>=0.41b0->chromadb) (1.14.1)\n",
      "Collecting asgiref~=3.0\n",
      "  Downloading asgiref-3.8.1-py3-none-any.whl (23 kB)\n",
      "Collecting monotonic>=1.5\n",
      "  Downloading monotonic-1.6-py2.py3-none-any.whl (8.2 kB)\n",
      "Collecting backoff>=1.10.0\n",
      "  Downloading backoff-2.2.1-py3-none-any.whl (15 kB)\n",
      "Requirement already satisfied: pydantic-core==2.14.6 in c:\\users\\admin\\documents\\python scripts\\lib\\site-packages (from pydantic>=1.9->chromadb) (2.14.6)\n",
      "Requirement already satisfied: annotated-types>=0.4.0 in c:\\users\\admin\\documents\\python scripts\\lib\\site-packages (from pydantic>=1.9->chromadb) (0.6.0)\n",
      "Requirement already satisfied: charset-normalizer<3,>=2 in c:\\users\\admin\\documents\\python scripts\\lib\\site-packages (from requests>=2.28->chromadb) (2.0.4)\n",
      "Requirement already satisfied: idna<4,>=2.5 in c:\\users\\admin\\documents\\python scripts\\lib\\site-packages (from requests>=2.28->chromadb) (3.4)\n",
      "Collecting huggingface-hub<1.0,>=0.16.4\n",
      "  Downloading huggingface_hub-0.23.0-py3-none-any.whl (401 kB)\n",
      "     -------------------------------------- 401.2/401.2 kB 6.3 MB/s eta 0:00:00\n",
      "Collecting shellingham>=1.3.0\n",
      "  Downloading shellingham-1.5.4-py2.py3-none-any.whl (9.8 kB)\n",
      "Requirement already satisfied: rich>=10.11.0 in c:\\users\\admin\\documents\\python scripts\\lib\\site-packages (from typer>=0.9.0->chromadb) (13.7.1)\n",
      "Requirement already satisfied: click>=8.0.0 in c:\\users\\admin\\documents\\python scripts\\lib\\site-packages (from typer>=0.9.0->chromadb) (8.0.4)\n",
      "Collecting h11>=0.8\n",
      "  Using cached h11-0.14.0-py3-none-any.whl (58 kB)\n",
      "Collecting watchfiles>=0.13\n",
      "  Downloading watchfiles-0.21.0-cp310-none-win_amd64.whl (279 kB)\n",
      "     -------------------------------------- 279.7/279.7 kB 8.7 MB/s eta 0:00:00\n",
      "Collecting python-dotenv>=0.13\n",
      "  Using cached python_dotenv-1.0.1-py3-none-any.whl (19 kB)\n",
      "Collecting httptools>=0.5.0\n",
      "  Downloading httptools-0.6.1-cp310-cp310-win_amd64.whl (58 kB)\n",
      "     ---------------------------------------- 58.2/58.2 kB 3.0 MB/s eta 0:00:00\n",
      "Collecting websockets>=10.4\n",
      "  Downloading websockets-12.0-cp310-cp310-win_amd64.whl (124 kB)\n",
      "     -------------------------------------- 125.0/125.0 kB 7.2 MB/s eta 0:00:00\n",
      "Collecting dnspython>=2.0.0\n",
      "  Using cached dnspython-2.6.1-py3-none-any.whl (307 kB)\n",
      "Requirement already satisfied: cachetools<6.0,>=2.0.0 in c:\\users\\admin\\documents\\python scripts\\lib\\site-packages (from google-auth>=1.0.1->kubernetes>=28.1.0->chromadb) (5.3.3)\n",
      "Requirement already satisfied: rsa<5,>=3.1.4 in c:\\users\\admin\\documents\\python scripts\\lib\\site-packages (from google-auth>=1.0.1->kubernetes>=28.1.0->chromadb) (4.9)\n",
      "Requirement already satisfied: pyasn1-modules>=0.2.1 in c:\\users\\admin\\documents\\python scripts\\lib\\site-packages (from google-auth>=1.0.1->kubernetes>=28.1.0->chromadb) (0.2.8)\n",
      "Requirement already satisfied: sniffio in c:\\users\\admin\\documents\\python scripts\\lib\\site-packages (from httpx>=0.23.0->fastapi>=0.95.2->chromadb) (1.2.0)\n",
      "Collecting httpcore==1.*\n",
      "  Using cached httpcore-1.0.5-py3-none-any.whl (77 kB)\n",
      "Requirement already satisfied: anyio in c:\\users\\admin\\documents\\python scripts\\lib\\site-packages (from httpx>=0.23.0->fastapi>=0.95.2->chromadb) (3.5.0)\n",
      "Requirement already satisfied: filelock in c:\\users\\admin\\documents\\python scripts\\lib\\site-packages (from huggingface-hub<1.0,>=0.16.4->tokenizers>=0.13.2->chromadb) (3.9.0)\n",
      "Collecting fsspec>=2023.5.0\n",
      "  Using cached fsspec-2024.3.1-py3-none-any.whl (171 kB)\n",
      "Requirement already satisfied: zipp>=0.5 in c:\\users\\admin\\documents\\python scripts\\lib\\site-packages (from importlib-metadata<=7.0,>=6.0->opentelemetry-api>=1.2.0->chromadb) (3.11.0)\n",
      "Requirement already satisfied: MarkupSafe>=2.0 in c:\\users\\admin\\documents\\python scripts\\lib\\site-packages (from jinja2>=2.11.2->fastapi>=0.95.2->chromadb) (2.1.1)\n",
      "Requirement already satisfied: markdown-it-py>=2.2.0 in c:\\users\\admin\\documents\\python scripts\\lib\\site-packages (from rich>=10.11.0->typer>=0.9.0->chromadb) (3.0.0)\n",
      "Requirement already satisfied: pygments<3.0.0,>=2.13.0 in c:\\users\\admin\\documents\\python scripts\\lib\\site-packages (from rich>=10.11.0->typer>=0.9.0->chromadb) (2.17.2)\n",
      "Collecting humanfriendly>=9.1\n",
      "  Using cached humanfriendly-10.0-py2.py3-none-any.whl (86 kB)\n",
      "Requirement already satisfied: mpmath>=0.19 in c:\\users\\admin\\documents\\python scripts\\lib\\site-packages (from sympy->onnxruntime>=1.14.1->chromadb) (1.2.1)\n",
      "Collecting pyreadline3\n",
      "  Using cached pyreadline3-3.4.1-py3-none-any.whl (95 kB)\n",
      "Requirement already satisfied: mdurl~=0.1 in c:\\users\\admin\\documents\\python scripts\\lib\\site-packages (from markdown-it-py>=2.2.0->rich>=10.11.0->typer>=0.9.0->chromadb) (0.1.2)\n",
      "Requirement already satisfied: pyasn1<0.5.0,>=0.4.6 in c:\\users\\admin\\documents\\python scripts\\lib\\site-packages (from pyasn1-modules>=0.2.1->google-auth>=1.0.1->kubernetes>=28.1.0->chromadb) (0.4.8)\n",
      "Building wheels for collected packages: pypika\n",
      "  Building wheel for pypika (pyproject.toml): started\n",
      "  Building wheel for pypika (pyproject.toml): finished with status 'done'\n",
      "  Created wheel for pypika: filename=PyPika-0.48.9-py2.py3-none-any.whl size=53835 sha256=4d05d4f05bfe79b56e657bc7285ba47cb613ab2108aff765dbd3daa569b73f55\n",
      "  Stored in directory: c:\\users\\admin\\appdata\\local\\pip\\cache\\wheels\\c4\\41\\b6\\f76a356f0791da799545c23894ceae842eeff054d0eb1fb626\n",
      "Successfully built pypika\n",
      "Installing collected packages: pyreadline3, pypika, monotonic, mmh3, websockets, tqdm, shellingham, python-multipart, python-dotenv, pyproject_hooks, overrides, opentelemetry-util-http, opentelemetry-semantic-conventions, opentelemetry-proto, oauthlib, importlib-resources, importlib-metadata, humanfriendly, httptools, h11, fsspec, dnspython, deprecated, chroma-hnswlib, bcrypt, backoff, asgiref, watchfiles, uvicorn, starlette, requests-oauthlib, posthog, opentelemetry-exporter-otlp-proto-common, opentelemetry-api, huggingface-hub, httpcore, email_validator, coloredlogs, build, typer, tokenizers, opentelemetry-sdk, opentelemetry-instrumentation, onnxruntime, kubernetes, httpx, opentelemetry-instrumentation-asgi, opentelemetry-exporter-otlp-proto-grpc, opentelemetry-instrumentation-fastapi, fastapi-cli, fastapi, chromadb\n",
      "  Attempting uninstall: tqdm\n",
      "    Found existing installation: tqdm 4.64.1\n",
      "    Uninstalling tqdm-4.64.1:\n",
      "      Successfully uninstalled tqdm-4.64.1\n",
      "  Attempting uninstall: importlib-metadata\n",
      "    Found existing installation: importlib-metadata 4.11.3\n",
      "    Uninstalling importlib-metadata-4.11.3:\n",
      "      Successfully uninstalled importlib-metadata-4.11.3\n",
      "  Attempting uninstall: fsspec\n",
      "    Found existing installation: fsspec 2022.11.0\n",
      "    Uninstalling fsspec-2022.11.0:\n",
      "      Successfully uninstalled fsspec-2022.11.0\n",
      "  Attempting uninstall: bcrypt\n",
      "    Found existing installation: bcrypt 3.2.0\n",
      "    Uninstalling bcrypt-3.2.0:\n",
      "      Successfully uninstalled bcrypt-3.2.0\n",
      "  Attempting uninstall: huggingface-hub\n",
      "    Found existing installation: huggingface-hub 0.10.1\n",
      "    Uninstalling huggingface-hub-0.10.1:\n",
      "      Successfully uninstalled huggingface-hub-0.10.1\n",
      "  Attempting uninstall: tokenizers\n",
      "    Found existing installation: tokenizers 0.11.4\n",
      "    Uninstalling tokenizers-0.11.4:\n",
      "      Successfully uninstalled tokenizers-0.11.4\n",
      "Successfully installed asgiref-3.8.1 backoff-2.2.1 bcrypt-4.1.3 build-1.2.1 chroma-hnswlib-0.7.3 chromadb-0.5.0 coloredlogs-15.0.1 deprecated-1.2.14 dnspython-2.6.1 email_validator-2.1.1 fastapi-0.111.0 fastapi-cli-0.0.3 fsspec-2024.3.1 h11-0.14.0 httpcore-1.0.5 httptools-0.6.1 httpx-0.27.0 huggingface-hub-0.23.0 humanfriendly-10.0 importlib-metadata-7.0.0 importlib-resources-6.4.0 kubernetes-29.0.0 mmh3-4.1.0 monotonic-1.6 oauthlib-3.2.2 onnxruntime-1.17.3 opentelemetry-api-1.24.0 opentelemetry-exporter-otlp-proto-common-1.24.0 opentelemetry-exporter-otlp-proto-grpc-1.24.0 opentelemetry-instrumentation-0.45b0 opentelemetry-instrumentation-asgi-0.45b0 opentelemetry-instrumentation-fastapi-0.45b0 opentelemetry-proto-1.24.0 opentelemetry-sdk-1.24.0 opentelemetry-semantic-conventions-0.45b0 opentelemetry-util-http-0.45b0 overrides-7.7.0 posthog-3.5.0 pypika-0.48.9 pyproject_hooks-1.1.0 pyreadline3-3.4.1 python-dotenv-1.0.1 python-multipart-0.0.9 requests-oauthlib-2.0.0 shellingham-1.5.4 starlette-0.37.2 tokenizers-0.19.1 tqdm-4.66.4 typer-0.12.3 uvicorn-0.29.0 watchfiles-0.21.0 websockets-12.0\n"
     ]
    },
    {
     "name": "stderr",
     "output_type": "stream",
     "text": [
      "ERROR: pip's dependency resolver does not currently take into account all the packages that are installed. This behaviour is the source of the following dependency conflicts.\n",
      "transformers 4.24.0 requires tokenizers!=0.11.3,<0.14,>=0.11.1, but you have tokenizers 0.19.1 which is incompatible.\n"
     ]
    }
   ],
   "source": [
    "!pip install chromadb"
   ]
  },
  {
   "cell_type": "code",
   "execution_count": 23,
   "id": "034e240e",
   "metadata": {},
   "outputs": [
    {
     "name": "stdout",
     "output_type": "stream",
     "text": [
      "Collecting sentence_transformers\n",
      "  Downloading sentence_transformers-2.7.0-py3-none-any.whl (171 kB)\n",
      "     -------------------------------------- 171.5/171.5 kB 2.1 MB/s eta 0:00:00\n",
      "Requirement already satisfied: scipy in c:\\users\\admin\\documents\\python scripts\\lib\\site-packages (from sentence_transformers) (1.10.0)\n",
      "Requirement already satisfied: torch>=1.11.0 in c:\\users\\admin\\documents\\python scripts\\lib\\site-packages (from sentence_transformers) (1.12.1)\n",
      "Requirement already satisfied: Pillow in c:\\users\\admin\\documents\\python scripts\\lib\\site-packages (from sentence_transformers) (9.4.0)\n",
      "Requirement already satisfied: tqdm in c:\\users\\admin\\documents\\python scripts\\lib\\site-packages (from sentence_transformers) (4.66.4)\n",
      "Requirement already satisfied: numpy in c:\\users\\admin\\documents\\python scripts\\lib\\site-packages (from sentence_transformers) (1.23.5)\n",
      "Requirement already satisfied: huggingface-hub>=0.15.1 in c:\\users\\admin\\documents\\python scripts\\lib\\site-packages (from sentence_transformers) (0.23.0)\n",
      "Collecting transformers<5.0.0,>=4.34.0\n",
      "  Downloading transformers-4.40.2-py3-none-any.whl (9.0 MB)\n",
      "     ---------------------------------------- 9.0/9.0 MB 4.0 MB/s eta 0:00:00\n",
      "Requirement already satisfied: scikit-learn in c:\\users\\admin\\documents\\python scripts\\lib\\site-packages (from sentence_transformers) (1.4.2)\n",
      "Requirement already satisfied: typing-extensions>=3.7.4.3 in c:\\users\\admin\\documents\\python scripts\\lib\\site-packages (from huggingface-hub>=0.15.1->sentence_transformers) (4.9.0)\n",
      "Requirement already satisfied: fsspec>=2023.5.0 in c:\\users\\admin\\documents\\python scripts\\lib\\site-packages (from huggingface-hub>=0.15.1->sentence_transformers) (2024.3.1)\n",
      "Requirement already satisfied: requests in c:\\users\\admin\\documents\\python scripts\\lib\\site-packages (from huggingface-hub>=0.15.1->sentence_transformers) (2.28.1)\n",
      "Requirement already satisfied: pyyaml>=5.1 in c:\\users\\admin\\documents\\python scripts\\lib\\site-packages (from huggingface-hub>=0.15.1->sentence_transformers) (6.0)\n",
      "Requirement already satisfied: packaging>=20.9 in c:\\users\\admin\\documents\\python scripts\\lib\\site-packages (from huggingface-hub>=0.15.1->sentence_transformers) (23.2)\n",
      "Requirement already satisfied: filelock in c:\\users\\admin\\documents\\python scripts\\lib\\site-packages (from huggingface-hub>=0.15.1->sentence_transformers) (3.9.0)\n",
      "Requirement already satisfied: colorama in c:\\users\\admin\\documents\\python scripts\\lib\\site-packages (from tqdm->sentence_transformers) (0.4.6)\n",
      "Requirement already satisfied: regex!=2019.12.17 in c:\\users\\admin\\documents\\python scripts\\lib\\site-packages (from transformers<5.0.0,>=4.34.0->sentence_transformers) (2022.7.9)\n",
      "Requirement already satisfied: tokenizers<0.20,>=0.19 in c:\\users\\admin\\documents\\python scripts\\lib\\site-packages (from transformers<5.0.0,>=4.34.0->sentence_transformers) (0.19.1)\n",
      "Collecting safetensors>=0.4.1\n",
      "  Downloading safetensors-0.4.3-cp310-none-win_amd64.whl (287 kB)\n",
      "     -------------------------------------- 287.4/287.4 kB 4.4 MB/s eta 0:00:00\n",
      "Requirement already satisfied: threadpoolctl>=2.0.0 in c:\\users\\admin\\documents\\python scripts\\lib\\site-packages (from scikit-learn->sentence_transformers) (2.2.0)\n",
      "Requirement already satisfied: joblib>=1.2.0 in c:\\users\\admin\\documents\\python scripts\\lib\\site-packages (from scikit-learn->sentence_transformers) (1.2.0)\n",
      "Requirement already satisfied: idna<4,>=2.5 in c:\\users\\admin\\documents\\python scripts\\lib\\site-packages (from requests->huggingface-hub>=0.15.1->sentence_transformers) (3.4)\n",
      "Requirement already satisfied: charset-normalizer<3,>=2 in c:\\users\\admin\\documents\\python scripts\\lib\\site-packages (from requests->huggingface-hub>=0.15.1->sentence_transformers) (2.0.4)\n",
      "Requirement already satisfied: urllib3<1.27,>=1.21.1 in c:\\users\\admin\\documents\\python scripts\\lib\\site-packages (from requests->huggingface-hub>=0.15.1->sentence_transformers) (1.26.14)\n",
      "Requirement already satisfied: certifi>=2017.4.17 in c:\\users\\admin\\documents\\python scripts\\lib\\site-packages (from requests->huggingface-hub>=0.15.1->sentence_transformers) (2022.12.7)\n",
      "Installing collected packages: safetensors, transformers, sentence_transformers\n",
      "  Attempting uninstall: transformers\n",
      "    Found existing installation: transformers 4.24.0\n",
      "    Uninstalling transformers-4.24.0:\n",
      "      Successfully uninstalled transformers-4.24.0\n",
      "Successfully installed safetensors-0.4.3 sentence_transformers-2.7.0 transformers-4.40.2\n"
     ]
    }
   ],
   "source": [
    "!pip install sentence_transformers"
   ]
  },
  {
   "cell_type": "code",
   "execution_count": 24,
   "id": "87592689-4aaa-43c6-9741-8e30fc5b3b97",
   "metadata": {},
   "outputs": [],
   "source": [
    "import chromadb\n",
    "from chromadb.utils import embedding_functions\n",
    "from sentence_transformers import SentenceTransformer,util"
   ]
  },
  {
   "cell_type": "code",
   "execution_count": 27,
   "id": "2b22247f-0786-4e6c-b101-0d4a08edf92f",
   "metadata": {},
   "outputs": [],
   "source": [
    "client = chromadb.PersistentClient(path=r\"D:\\search-engine.db\")"
   ]
  },
  {
   "cell_type": "code",
   "execution_count": 28,
   "id": "79794c84-70bb-4886-b469-fb9b375293da",
   "metadata": {},
   "outputs": [
    {
     "data": {
      "text/plain": [
       "1715238169097237300"
      ]
     },
     "execution_count": 28,
     "metadata": {},
     "output_type": "execute_result"
    }
   ],
   "source": [
    "client.heartbeat()"
   ]
  },
  {
   "cell_type": "code",
   "execution_count": 29,
   "id": "57ff50b7-1237-4e51-b9ac-558ee0a62780",
   "metadata": {},
   "outputs": [
    {
     "data": {
      "application/vnd.jupyter.widget-view+json": {
       "model_id": "7e590f8686c4408daec21e81528c19a3",
       "version_major": 2,
       "version_minor": 0
      },
      "text/plain": [
       "modules.json:   0%|          | 0.00/349 [00:00<?, ?B/s]"
      ]
     },
     "metadata": {},
     "output_type": "display_data"
    },
    {
     "name": "stderr",
     "output_type": "stream",
     "text": [
      "C:\\Users\\Admin\\Documents\\Python Scripts\\lib\\site-packages\\huggingface_hub\\file_download.py:157: UserWarning: `huggingface_hub` cache-system uses symlinks by default to efficiently store duplicated files but your machine does not support them in C:\\Users\\Admin\\.cache\\huggingface\\hub\\models--sentence-transformers--all-MiniLM-L6-v2. Caching files will still work but in a degraded version that might require more space on your disk. This warning can be disabled by setting the `HF_HUB_DISABLE_SYMLINKS_WARNING` environment variable. For more details, see https://huggingface.co/docs/huggingface_hub/how-to-cache#limitations.\n",
      "To support symlinks on Windows, you either need to activate Developer Mode or to run Python as an administrator. In order to see activate developer mode, see this article: https://docs.microsoft.com/en-us/windows/apps/get-started/enable-your-device-for-development\n",
      "  warnings.warn(message)\n"
     ]
    },
    {
     "data": {
      "application/vnd.jupyter.widget-view+json": {
       "model_id": "a471fdf55df0493fa76a45536c411188",
       "version_major": 2,
       "version_minor": 0
      },
      "text/plain": [
       "config_sentence_transformers.json:   0%|          | 0.00/116 [00:00<?, ?B/s]"
      ]
     },
     "metadata": {},
     "output_type": "display_data"
    },
    {
     "data": {
      "application/vnd.jupyter.widget-view+json": {
       "model_id": "4f7eff855e304efaaceae743af488578",
       "version_major": 2,
       "version_minor": 0
      },
      "text/plain": [
       "README.md:   0%|          | 0.00/10.7k [00:00<?, ?B/s]"
      ]
     },
     "metadata": {},
     "output_type": "display_data"
    },
    {
     "data": {
      "application/vnd.jupyter.widget-view+json": {
       "model_id": "81684f89a72644d7a3edeb00be073b71",
       "version_major": 2,
       "version_minor": 0
      },
      "text/plain": [
       "sentence_bert_config.json:   0%|          | 0.00/53.0 [00:00<?, ?B/s]"
      ]
     },
     "metadata": {},
     "output_type": "display_data"
    },
    {
     "name": "stderr",
     "output_type": "stream",
     "text": [
      "C:\\Users\\Admin\\Documents\\Python Scripts\\lib\\site-packages\\huggingface_hub\\file_download.py:1132: FutureWarning: `resume_download` is deprecated and will be removed in version 1.0.0. Downloads always resume when possible. If you want to force a new download, use `force_download=True`.\n",
      "  warnings.warn(\n"
     ]
    },
    {
     "data": {
      "application/vnd.jupyter.widget-view+json": {
       "model_id": "7f6f5f94eb924c61bcb4e898b0c28fca",
       "version_major": 2,
       "version_minor": 0
      },
      "text/plain": [
       "config.json:   0%|          | 0.00/612 [00:00<?, ?B/s]"
      ]
     },
     "metadata": {},
     "output_type": "display_data"
    },
    {
     "data": {
      "application/vnd.jupyter.widget-view+json": {
       "model_id": "8d91bb0ea2f9431fab13749915056e84",
       "version_major": 2,
       "version_minor": 0
      },
      "text/plain": [
       "model.safetensors:   0%|          | 0.00/90.9M [00:00<?, ?B/s]"
      ]
     },
     "metadata": {},
     "output_type": "display_data"
    },
    {
     "data": {
      "application/vnd.jupyter.widget-view+json": {
       "model_id": "a7150b38d3344605936f518c569b1f0f",
       "version_major": 2,
       "version_minor": 0
      },
      "text/plain": [
       "tokenizer_config.json:   0%|          | 0.00/350 [00:00<?, ?B/s]"
      ]
     },
     "metadata": {},
     "output_type": "display_data"
    },
    {
     "data": {
      "application/vnd.jupyter.widget-view+json": {
       "model_id": "86a0d72c71db474f87a92c17a26a518d",
       "version_major": 2,
       "version_minor": 0
      },
      "text/plain": [
       "vocab.txt:   0%|          | 0.00/232k [00:00<?, ?B/s]"
      ]
     },
     "metadata": {},
     "output_type": "display_data"
    },
    {
     "data": {
      "application/vnd.jupyter.widget-view+json": {
       "model_id": "197d2cd01bc247a5b4c27730c7f00149",
       "version_major": 2,
       "version_minor": 0
      },
      "text/plain": [
       "tokenizer.json:   0%|          | 0.00/466k [00:00<?, ?B/s]"
      ]
     },
     "metadata": {},
     "output_type": "display_data"
    },
    {
     "data": {
      "application/vnd.jupyter.widget-view+json": {
       "model_id": "657ea82c787e4f61a91c1bb8feeeea7a",
       "version_major": 2,
       "version_minor": 0
      },
      "text/plain": [
       "special_tokens_map.json:   0%|          | 0.00/112 [00:00<?, ?B/s]"
      ]
     },
     "metadata": {},
     "output_type": "display_data"
    },
    {
     "data": {
      "application/vnd.jupyter.widget-view+json": {
       "model_id": "42f94c7d556b403fa8fb2b9899dcc44e",
       "version_major": 2,
       "version_minor": 0
      },
      "text/plain": [
       "1_Pooling/config.json:   0%|          | 0.00/190 [00:00<?, ?B/s]"
      ]
     },
     "metadata": {},
     "output_type": "display_data"
    }
   ],
   "source": [
    "sentence_transformer_ef = embedding_functions.SentenceTransformerEmbeddingFunction(model_name=\"all-MiniLM-L6-v2\")"
   ]
  },
  {
   "cell_type": "code",
   "execution_count": 30,
   "id": "0536c5cd-d427-4eb6-9528-5532a81cc1d8",
   "metadata": {},
   "outputs": [],
   "source": [
    "collection = client.create_collection(\n",
    "        name=\"subtitles_embedded3\",\n",
    "        metadata={\"hnsw:space\": \"cosine\"},\n",
    "        embedding_function=sentence_transformer_ef\n",
    "    )"
   ]
  },
  {
   "cell_type": "code",
   "execution_count": 31,
   "id": "f7a76321-0612-4e20-b909-f220d09a36e9",
   "metadata": {},
   "outputs": [],
   "source": [
    "df_for_em = df"
   ]
  },
  {
   "cell_type": "code",
   "execution_count": 32,
   "id": "4a42d4d3-90da-463c-b921-132ecd388ffe",
   "metadata": {},
   "outputs": [
    {
     "data": {
      "text/plain": [
       "(32493, 3)"
      ]
     },
     "execution_count": 32,
     "metadata": {},
     "output_type": "execute_result"
    }
   ],
   "source": [
    "df_for_em.shape"
   ]
  },
  {
   "cell_type": "code",
   "execution_count": 33,
   "id": "48ec0c53-5466-4c75-83e1-26de95cbfada",
   "metadata": {},
   "outputs": [],
   "source": [
    "model = SentenceTransformer(\"all-MiniLM-L6-v2\")"
   ]
  },
  {
   "cell_type": "code",
   "execution_count": 34,
   "id": "38529e41-aebc-4f6e-94c1-e388ec5f202a",
   "metadata": {},
   "outputs": [],
   "source": [
    "df_with_em = df_for_em "
   ]
  },
  {
   "cell_type": "code",
   "execution_count": 35,
   "id": "c6e81dbb-3b85-4405-89c9-e26c19f5ff35",
   "metadata": {},
   "outputs": [],
   "source": [
    "from joblib import parallel_backend"
   ]
  },
  {
   "cell_type": "code",
   "execution_count": 36,
   "id": "26be1d2d-e386-4c9e-81c7-c1959462abf4",
   "metadata": {},
   "outputs": [],
   "source": [
    "def encoding_content(x):\n",
    "    return model.encode(x, normalize_embeddings=True).tolist()\n",
    "\n",
    "# df_with_em.loc[:, 'subtitle_content_encoded'] = df_for_em['subtitle_content'].progress_apply(encoding_content)"
   ]
  },
  {
   "cell_type": "code",
   "execution_count": null,
   "id": "3714046f-ea2a-4d04-8e73-7c728f12e3fe",
   "metadata": {},
   "outputs": [
    {
     "name": "stderr",
     "output_type": "stream",
     "text": [
      " 39%|████████████████████████████▎                                           | 12768/32493 [1:37:19<2:01:15,  2.71it/s]"
     ]
    }
   ],
   "source": [
    "num_cores = -1\n",
    "with parallel_backend('threading', n_jobs=num_cores):\n",
    "    encoded_contents = Parallel()(delayed(encoding_content)(content) for content in tqdm(df_for_em['subtitle_content']))\n",
    "\n",
    "df_with_em['subtitle_content_encoded'] = encoded_contents"
   ]
  },
  {
   "cell_type": "code",
   "execution_count": 28,
   "id": "a734d0de-1ac4-4a84-8b59-4da9966abc2d",
   "metadata": {},
   "outputs": [
    {
     "name": "stdout",
     "output_type": "stream",
     "text": [
      "<class 'pandas.core.frame.DataFrame'>\n",
      "Index: 32493 entries, 0 to 499\n",
      "Data columns (total 4 columns):\n",
      " #   Column                    Non-Null Count  Dtype \n",
      "---  ------                    --------------  ----- \n",
      " 0   num                       32493 non-null  int64 \n",
      " 1   name                      32493 non-null  object\n",
      " 2   subtitle_content          32493 non-null  object\n",
      " 3   subtitle_content_encoded  32493 non-null  object\n",
      "dtypes: int64(1), object(3)\n",
      "memory usage: 1.2+ MB\n"
     ]
    }
   ],
   "source": [
    "df_with_em.info()"
   ]
  },
  {
   "cell_type": "code",
   "execution_count": 29,
   "id": "475f02d2-f177-451f-8ea1-c73ca1db9caa",
   "metadata": {},
   "outputs": [
    {
     "data": {
      "text/html": [
       "<div>\n",
       "<style scoped>\n",
       "    .dataframe tbody tr th:only-of-type {\n",
       "        vertical-align: middle;\n",
       "    }\n",
       "\n",
       "    .dataframe tbody tr th {\n",
       "        vertical-align: top;\n",
       "    }\n",
       "\n",
       "    .dataframe thead th {\n",
       "        text-align: right;\n",
       "    }\n",
       "</style>\n",
       "<table border=\"1\" class=\"dataframe\">\n",
       "  <thead>\n",
       "    <tr style=\"text-align: right;\">\n",
       "      <th></th>\n",
       "      <th>num</th>\n",
       "      <th>name</th>\n",
       "      <th>subtitle_content</th>\n",
       "      <th>subtitle_content_encoded</th>\n",
       "    </tr>\n",
       "  </thead>\n",
       "  <tbody>\n",
       "    <tr>\n",
       "      <th>0</th>\n",
       "      <td>9180533</td>\n",
       "      <td>the message (1976) eng 1cd</td>\n",
       "      <td>Watch any video online with OpenSUBTITLESFre...</td>\n",
       "      <td>[0.024978460744023323, 0.05731463432312012, -0...</td>\n",
       "    </tr>\n",
       "    <tr>\n",
       "      <th>0</th>\n",
       "      <td>9180533</td>\n",
       "      <td>the message (1976) eng 1cd</td>\n",
       "      <td>ia  Was it like this when John the Baptistcame...</td>\n",
       "      <td>[-0.007689794059842825, 0.14881308376789093, -...</td>\n",
       "    </tr>\n",
       "    <tr>\n",
       "      <th>0</th>\n",
       "      <td>9180533</td>\n",
       "      <td>the message (1976) eng 1cd</td>\n",
       "      <td>Muhammadas a mercy to mankind  The Scholars an...</td>\n",
       "      <td>[-0.019260983914136887, 0.16961021721363068, -...</td>\n",
       "    </tr>\n",
       "    <tr>\n",
       "      <th>0</th>\n",
       "      <td>9180533</td>\n",
       "      <td>the message (1976) eng 1cd</td>\n",
       "      <td>ark agesi  iand everywhere the oldcivilization...</td>\n",
       "      <td>[0.038837723433971405, 0.14701123535633087, -0...</td>\n",
       "    </tr>\n",
       "    <tr>\n",
       "      <th>0</th>\n",
       "      <td>9180533</td>\n",
       "      <td>the message (1976) eng 1cd</td>\n",
       "      <td>f Abrahami  ithe Kaaba had nowbecome a house o...</td>\n",
       "      <td>[0.04441261291503906, 0.11914205551147461, 0.0...</td>\n",
       "    </tr>\n",
       "  </tbody>\n",
       "</table>\n",
       "</div>"
      ],
      "text/plain": [
       "       num                        name  \\\n",
       "0  9180533  the message (1976) eng 1cd   \n",
       "0  9180533  the message (1976) eng 1cd   \n",
       "0  9180533  the message (1976) eng 1cd   \n",
       "0  9180533  the message (1976) eng 1cd   \n",
       "0  9180533  the message (1976) eng 1cd   \n",
       "\n",
       "                                    subtitle_content  \\\n",
       "0    Watch any video online with OpenSUBTITLESFre...   \n",
       "0  ia  Was it like this when John the Baptistcame...   \n",
       "0  Muhammadas a mercy to mankind  The Scholars an...   \n",
       "0  ark agesi  iand everywhere the oldcivilization...   \n",
       "0  f Abrahami  ithe Kaaba had nowbecome a house o...   \n",
       "\n",
       "                            subtitle_content_encoded  \n",
       "0  [0.024978460744023323, 0.05731463432312012, -0...  \n",
       "0  [-0.007689794059842825, 0.14881308376789093, -...  \n",
       "0  [-0.019260983914136887, 0.16961021721363068, -...  \n",
       "0  [0.038837723433971405, 0.14701123535633087, -0...  \n",
       "0  [0.04441261291503906, 0.11914205551147461, 0.0...  "
      ]
     },
     "execution_count": 29,
     "metadata": {},
     "output_type": "execute_result"
    }
   ],
   "source": [
    "df_with_em.head()"
   ]
  },
  {
   "cell_type": "code",
   "execution_count": 31,
   "id": "70d6ca3e-fd44-4a98-afa4-f94004de8011",
   "metadata": {},
   "outputs": [
    {
     "name": "stderr",
     "output_type": "stream",
     "text": [
      "100%|███████████████████████████████████████████████████████████████████████████| 32493/32493 [04:23<00:00, 123.43it/s]\n"
     ]
    }
   ],
   "source": [
    "for i in tqdm(range(df_with_em.shape[0])):\n",
    "    collection.add(\n",
    "        documents=df_with_em['subtitle_content'].iloc[i],\n",
    "        embeddings=df_with_em['subtitle_content_encoded'].iloc[i],\n",
    "        metadatas= {'subtitle_name': df_with_em['name'].iloc[i], 'num': str(df_with_em['num'].iloc[i])},\n",
    "        ids=str(i)\n",
    "    )"
   ]
  },
  {
   "cell_type": "code",
   "execution_count": 32,
   "id": "ab339693-ac2a-4508-abc9-3f6aa71e9700",
   "metadata": {},
   "outputs": [
    {
     "name": "stdout",
     "output_type": "stream",
     "text": [
      "9182996\n",
      "i touched all your stuff (2014) eng 1cd\n",
      "ouched  Shell be pleasedwhen she arrives  muffled laughing  This is the note left by Luke  Said Would it kill youto get a stepladder  PS I touched all your stuff  Im feeling the love yeah  the bright shinysilvery love  Every TV show CNN  every news organizationis calling  every radio show is calling  They just went crazy  And it was kind of a lotto deal with  Im trying to work as wellbeinghaving been gone  for a couple of weeksfrom work  trying to catch up on that  At the same timenow remember  Ive got this\n"
     ]
    },
    {
     "name": "stderr",
     "output_type": "stream",
     "text": [
      "C:\\Users\\ravin\\AppData\\Local\\Temp\\ipykernel_8272\\2583520840.py:7: FutureWarning: Series.__getitem__ treating keys as positions is deprecated. In a future version, integer keys will always be treated as labels (consistent with DataFrame behavior). To access a value by position, use `ser.iloc[pos]`\n",
      "  print(temp[i])\n"
     ]
    }
   ],
   "source": [
    "import random\n",
    "temp = df_with_em.iloc[random.randint(0, len(df_with_em))]\n",
    "for i in range(4):\n",
    "    if i == 3:\n",
    "        continue\n",
    "    else:\n",
    "        print(temp[i])"
   ]
  },
  {
   "cell_type": "code",
   "execution_count": 34,
   "id": "3e606e49-16d3-4db2-93d0-2228b74e0fcd",
   "metadata": {},
   "outputs": [],
   "source": [
    "collection = client.get_collection(name=\"subtitles_embedded3\", embedding_function=sentence_transformer_ef)"
   ]
  },
  {
   "cell_type": "code",
   "execution_count": 35,
   "id": "da13d107-116d-4d7a-b34c-1f58bc00319e",
   "metadata": {},
   "outputs": [],
   "source": [
    "def clean_text(text):\n",
    "    text = re.sub(r'\\d{2}:\\d{2}:\\d{2},\\d{3} --> \\d{2}:\\d{2}:\\d{2},\\d{3}\\r\\n', '', text)\n",
    "    text = re.sub(r'\\r\\n', ' ', text)\n",
    "    text = re.sub(r'<[^>]+>', '', text)\n",
    "    text = re.sub(r'[^a-zA-Z\\s]', '', text)\n",
    "    text = re.sub(r'\\s+', ' ', text)\n",
    "    text = text.lower()\n",
    "    text = re.sub(r'watch any video online with opensubtitles free browser extension osdblinkext', '', text)\n",
    "    text = text.strip()\n",
    "    return text\n",
    "# new_df['subtitle_content'] = new_df['subtitle_content'].apply(clean_text)"
   ]
  },
  {
   "cell_type": "code",
   "execution_count": 36,
   "id": "bc7213ff-a35b-4c93-b535-755bac157569",
   "metadata": {},
   "outputs": [],
   "source": [
    "# query = \"ross you know yesterday he asked me to fix him up with somebody\"\n",
    "query = \"hey ross how are you\"\n",
    "\n",
    "query = clean_text(query)"
   ]
  },
  {
   "cell_type": "code",
   "execution_count": 37,
   "id": "54a5885a-31ec-4422-abeb-2a2fd2edd7db",
   "metadata": {},
   "outputs": [],
   "source": [
    "query_em = encoding_content(query)"
   ]
  },
  {
   "cell_type": "code",
   "execution_count": 38,
   "id": "64d8abd2-b71f-4c90-902c-c94375152a55",
   "metadata": {},
   "outputs": [],
   "source": [
    "search_results = collection.query(query_embeddings=query_em, n_results=5)"
   ]
  },
  {
   "cell_type": "code",
   "execution_count": 39,
   "id": "5a4181b3-4d63-4c1c-8191-138b2a8991c2",
   "metadata": {},
   "outputs": [
    {
     "name": "stdout",
     "output_type": "stream",
     "text": [
      "Top 5 Results\n",
      "Result 1 :  better call saul s06 e10 nippy (2022) eng 1cd\n",
      "Result 2 :  survivor s14 e15 survivor fiji the reunion (2007) eng 1cd\n",
      "Result 3 :  bleed american (2019) eng 1cd\n",
      "Result 4 :  the great food truck race s05 e07 finale at mile 0 winning keys in key west (2014) eng 1cd\n",
      "Result 5 :  the great food truck race s05 e07 finale at mile 0 winning keys in key west (2014) eng 1cd\n"
     ]
    }
   ],
   "source": [
    "print(\"Top 10 Results\")\n",
    "for i, res in enumerate(search_results['metadatas'][0]):\n",
    "    print(f\"Result {i+1} : \", res['subtitle_name']) \n"
   ]
  },
  {
   "cell_type": "code",
   "execution_count": null,
   "id": "071acec6-c51f-4394-a812-1a70c6dae878",
   "metadata": {},
   "outputs": [],
   "source": [
    "load_dotenv()\n",
    "\n",
    "headers = {\n",
    "    \"accept\": \"application/json\",\n",
    "    \"Authorization\": os.getenv(\"API_KEY\")\n",
    "}\n"
   ]
  },
  {
   "cell_type": "code",
   "execution_count": null,
   "id": "928f9128-3f76-4e37-8d4c-2e3ed52635ce",
   "metadata": {},
   "outputs": [],
   "source": [
    "import chromadb\n",
    "from chromadb.utils import embedding_functions\n",
    "from sentence_transformers import SentenceTransformer,util\n",
    "client = chromadb.PersistentClient(path=r\"D:\\search_engine_subtitles_files\")\n",
    "sentence_transformer_ef = embedding_functions.SentenceTransformerEmbeddingFunction(model_name=\"all-MiniLM-L6-v2\")\n",
    "sentence_transformer_ef = embedding_functions.SentenceTransformerEmbeddingFunction(model_name=\"all-MiniLM-L6-v2\")"
   ]
  },
  {
   "cell_type": "code",
   "execution_count": null,
   "id": "eb84c35b-9dcc-45c7-ba15-d3d91c3372fc",
   "metadata": {},
   "outputs": [],
   "source": [
    "collection = client.create_collection(\n",
    "        name=\"subtitles_embedded3\",\n",
    "        metadata={\"hnsw:space\": \"cosine\"},\n",
    "        embedding_function=sentence_transformer_ef\n",
    "    )\n",
    "model = SentenceTransformer(\"all-MiniLM-L6-v2\")"
   ]
  }
 ],
 "metadata": {
  "kernelspec": {
   "display_name": "Python 3 (ipykernel)",
   "language": "python",
   "name": "python3"
  },
  "language_info": {
   "codemirror_mode": {
    "name": "ipython",
    "version": 3
   },
   "file_extension": ".py",
   "mimetype": "text/x-python",
   "name": "python",
   "nbconvert_exporter": "python",
   "pygments_lexer": "ipython3",
   "version": "3.10.9"
  }
 },
 "nbformat": 4,
 "nbformat_minor": 5
}
